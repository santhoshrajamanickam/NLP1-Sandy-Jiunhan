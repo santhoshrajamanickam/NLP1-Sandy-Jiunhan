{
 "cells": [
  {
   "cell_type": "code",
   "execution_count": 1,
   "metadata": {
    "collapsed": true
   },
   "outputs": [],
   "source": [
    "%matplotlib inline\n",
    "import matplotlib\n",
    "import numpy as np\n",
    "import matplotlib.pyplot as plt"
   ]
  },
  {
   "cell_type": "markdown",
   "metadata": {},
   "source": [
    "# Lab 1: Text Corpora and Language Modelling\n",
    "\n",
    "This lab is meant to help you get familiar with some language data, and use this data to estimate N-gram language models\n",
    "\n",
    "First you will use the **Penn Treebank**, which is a collection of newspaper articles from the newspaper \n",
    "The Wall Street Journal. The idea is to examine the data and notice interesting properties. This will not take more than a few lines of code.\n",
    "\n",
    "Then you will use a corpus consisting of **TedX** talks. This you will use to estimate an **N-gram language model** for different orders of N, and use this this for some tasks.\n",
    "\n",
    "The datasets are on blackboard under course materials. Download the zip and make sure to put the files in the same directory as the notebook.\n",
    "\n",
    "### Rules\n",
    "* The lab exercises should be made in **groups of two people**.\n",
    "\n",
    "* The deadline is **Tuesday 7 nov 16:59**.\n",
    "\n",
    "* The assignment should submitted to **Blackboard** as `.ipynb`. Only **one submission per group**.\n",
    "\n",
    "* The **filename** should be `lab1_lastname1_lastname2.ipynb`, so for example `lab1_Jurafsky_Martin.ipynb`.\n",
    "\n",
    "* The notebook is graded on a scale of **0-10**. The number of points for each question is indicated in parantheses. \n",
    "\n",
    "* The questions marked **optional** are not graded; they are an additional challenge for those interested in going the extra mile. \n",
    "\n",
    "Notes on implementation:\n",
    "\n",
    "* You should **write your code and answers in this iPython Notebook** (see http://ipython.org/notebook.html for reference material). If you have problems, please contact your teaching assistant.\n",
    "\n",
    "* Use only **one cell for code** and **one cell for markdown** answers!    \n",
    "\n",
    "    * Put all code in the cell with the `# YOUR CODE HERE` comment.\n",
    "    \n",
    "    * For theoretical question, put your solution in the YOUR ANSWER HERE cell.\n",
    "    \n",
    "* Test your code and **make sure we can run your notebook**"
   ]
  },
  {
   "cell_type": "markdown",
   "metadata": {},
   "source": [
    "# 1. Penn treebank\n",
    "\n",
    "## Exercise 1.1 (40 points, 5 points per subquestion )\n",
    "\n",
    "You are provided with a corpus containing words with their Part-of-Speech tags (POS-tags for short). The format is\n",
    "**word|POS** (one sentence per line) and the file name is **sec02-22.gold.tagged**. This data is extracted from Sections 02-22 from the Penn Treebank: these sections are most commonly used for training statistical models like POS-taggers and parsers.\n",
    "\n",
    "**[Hint]** **Figure 10.1** in chapter 10 of Jurafsky and Martin (see [here](https://web.stanford.edu/~jurafsky/slp3/10.pdf)) holds a summary of the 45 POS-tags used in the Penn Treebank tagset together with their meaning and some examples. (If you are keen on learning more about the word-classes represented POS-tags and their definitions you can do a litle reading ahead for next week and already have a look at section 10.1 of the same chapter).\n",
    "\n",
    "**[Hint]** the Python library [collections](https://docs.python.org/2/library/collections.html) has an object called `Counter` which will come in handy for this exercise."
   ]
  },
  {
   "cell_type": "markdown",
   "metadata": {},
   "source": [
    " "
   ]
  },
  {
   "cell_type": "markdown",
   "metadata": {},
   "source": [
    "**(a)** How large is the corpus? (i.e. how **many tokens**). And what is the size of the **vocabulary** used in this corpus? \n",
    "\n",
    "Estimate the vocabulary size both by **lowercasing** all the words as well as by leaving the words in their **original orthography**. What is an advantage of lowercasing all the words in your corpus? What is a notable downside? **Give examples.**"
   ]
  },
  {
   "cell_type": "code",
   "execution_count": 2,
   "metadata": {},
   "outputs": [
    {
     "name": "stdout",
     "output_type": "stream",
     "text": [
      "44210\n",
      "39384\n"
     ]
    }
   ],
   "source": [
    "## YOUR CODE HERE ##\n",
    "import re\n",
    "from collections import Counter\n",
    "\n",
    "cnt = Counter()\n",
    "\n",
    "context = open('sec02-21.gold.tagged').read()\n",
    "lower_context = open('sec02-21.gold.tagged').read().lower()\n",
    "\n",
    "\n",
    "#TODO remove \\n by regular expression?\n",
    "lower_context = lower_context.replace('\\n', '')\n",
    "lower_words = re.findall(r'(?:\\ |^)([^ ]+)(?:\\|)', lower_context)\n",
    "\n",
    "context = context.replace('\\n', '')\n",
    "words = re.findall(r'(?:\\ |^)([^ ]+)(?:\\|)', context)\n",
    "\n",
    "print(len(Counter(words)))\n",
    "#print(Counter(words))\n",
    "print(len(Counter(lower_words)))"
   ]
  },
  {
   "cell_type": "markdown",
   "metadata": {},
   "source": [
    "YOUR ANSWER HERE"
   ]
  },
  {
   "cell_type": "markdown",
   "metadata": {},
   "source": [
    "------\n",
    "For the rest of this exercise you should use the **original orthography** of the data when answering the questions.\n",
    "\n",
    "------\n"
   ]
  },
  {
   "cell_type": "markdown",
   "metadata": {},
   "source": [
    "**(b)** Plot a graph of word frequency versus rank of a word, in this corpus. Does this corpus obey **Zipf’s law**?"
   ]
  },
  {
   "cell_type": "code",
   "execution_count": 3,
   "metadata": {
    "scrolled": true
   },
   "outputs": [
    {
     "data": {
      "text/plain": [
       "[<matplotlib.lines.Line2D at 0x7fde18373da0>]"
      ]
     },
     "execution_count": 3,
     "metadata": {},
     "output_type": "execute_result"
    },
    {
     "data": {
      "image/png": "[encoded data removed]",
      "text/plain": [
       "<matplotlib.figure.Figure at 0x7fde1de05240>"
      ]
     },
     "metadata": {},
     "output_type": "display_data"
    }
   ],
   "source": [
    "## YOUR CODE HERE ##\n",
    "#import numpy as np\n",
    "#import matplotlib.pyplot as plt\n",
    "#x = np.linspace(1, 100, 100)\n",
    "y_counter = Counter(words).most_common(10000)\n",
    "y = [int(frequency[1]) for frequency in y_counter]\n",
    "#y = np.array(y)\n",
    "#print(y.reshape(100,))\n",
    "plt.xscale('log')\n",
    "plt.yscale('log')\n",
    "plt.plot(y)"
   ]
  },
  {
   "cell_type": "markdown",
   "metadata": {},
   "source": [
    "**(c)** What are the **20 most common words** in the corpus and how often do they occur? What is the 50th most common word, the 100th and the 1000th and how often do they occur?"
   ]
  },
  {
   "cell_type": "code",
   "execution_count": 4,
   "metadata": {},
   "outputs": [
    {
     "name": "stdout",
     "output_type": "stream",
     "text": [
      "[(',', 48310), ('the', 40839), ('.', 38798), ('of', 22782), ('to', 22056), ('a', 19171), ('and', 15906), ('in', 15085), (\"'s\", 9249), ('that', 7951), ('for', 7912), ('$', 7125), ('is', 6893), ('The', 6791), ('said', 5597), ('on', 5112), ('%', 4871), ('it', 4639), ('by', 4450), ('from', 4437)]\n",
      "had\n",
      "A\n",
      "man\n"
     ]
    }
   ],
   "source": [
    "## YOUR CODE HERE ##\n",
    "print(Counter(words).most_common(20))\n",
    "print(Counter(words).most_common(50)[49][0])\n",
    "print(Counter(words).most_common(100)[99][0])\n",
    "print(Counter(words).most_common(1000)[999][0])"
   ]
  },
  {
   "cell_type": "markdown",
   "metadata": {},
   "source": [
    "**(d)** How many different Part-of-speech tags are present in the corpus?"
   ]
  },
  {
   "cell_type": "code",
   "execution_count": 5,
   "metadata": {
    "scrolled": true
   },
   "outputs": [
    {
     "name": "stdout",
     "output_type": "stream",
     "text": [
      "48\n"
     ]
    }
   ],
   "source": [
    "## YOUR CODE HERE ##\n",
    "pos = re.findall(r'(?:\\|)([^ ]+)(?:\\ )', context)\n",
    "#print(Counter(pos))\n",
    "print(len(Counter(pos)))"
   ]
  },
  {
   "cell_type": "markdown",
   "metadata": {},
   "source": [
    "**(e)** Print a list of the **10 most commonly occurring POS tags** in the data. For each of these POS tags, what are the **3 most common words** that belong to that class?"
   ]
  },
  {
   "cell_type": "code",
   "execution_count": 6,
   "metadata": {},
   "outputs": [
    {
     "name": "stdout",
     "output_type": "stream",
     "text": [
      "[('NN', 132134), ('IN', 99413), ('NNP', 90711), ('DT', 82147), ('JJ', 59643), ('NNS', 59332), (',', 48314), ('.', 39252), ('CD', 36148), ('RB', 30232)]\n",
      "-------------------------------\n",
      "NN: \n",
      "% 4866\n",
      "Mr. 4147\n",
      "company 2457\n",
      "-------------------------------\n",
      "IN: \n",
      "of 22778\n",
      "in 14852\n",
      "for 7907\n",
      "-------------------------------\n",
      "NNP: \n",
      "Mr. 4147\n",
      "U.S. 1577\n",
      "Corp. 1186\n",
      "-------------------------------\n",
      "DT: \n",
      "the 40831\n",
      "a 19151\n",
      "The 6753\n",
      "-------------------------------\n",
      "JJ: \n",
      "new 1396\n",
      "other 1298\n",
      "more 1117\n",
      "-------------------------------\n",
      "NNS: \n",
      "years 1164\n",
      "shares 1128\n",
      "sales 939\n",
      "-------------------------------\n",
      ",: \n",
      ", 48310\n",
      "2 1\n",
      "section 1\n",
      "-------------------------------\n",
      ".: \n",
      ". 38798\n",
      "? 392\n",
      "! 62\n",
      "-------------------------------\n",
      "CD: \n",
      "million 4355\n",
      "billion 1780\n",
      "one 1203\n",
      "-------------------------------\n",
      "RB: \n",
      "n't 3211\n",
      "also 1420\n",
      "not 1288\n"
     ]
    }
   ],
   "source": [
    "## YOUR CODE HERE ##\n",
    "all_pos = re.findall(r'(?:\\|)([^ ]+)(?:\\ )', context)\n",
    "print(Counter(all_pos).most_common(10))\n",
    "for pos in Counter(all_pos).most_common(10):\n",
    "    pos_in_re = pos[0]\n",
    "    word_and_pos = re.findall(r'(?: |^)([^ ]+\\|' + re.escape(pos[0]) + ')', context)\n",
    "    print('-------------------------------')    \n",
    "    print(pos[0] + \": \")\n",
    "    for top3 in Counter(word_and_pos).most_common(3):        \n",
    "        print(top3[0].split('|')[0], top3[1])    "
   ]
  },
  {
   "cell_type": "markdown",
   "metadata": {},
   "source": [
    "**(f)** A single word may have several POS-tags. For example, *record* can be a both a **noun** *(buy a record)* or a **verb** *(record a lecture)*. This make POS-tags extremely useful for **disambiguation**.\n",
    "\n",
    "What percentage of the words in the vocabulary is **ambiguous**? (i.e. have more than one POS tag?) What are the 10 most frequent combinations of POS tags in the case of ambitguity? Which words are **most ambiguous**? Give some of them."
   ]
  },
  {
   "cell_type": "code",
   "execution_count": 7,
   "metadata": {
    "scrolled": true
   },
   "outputs": [
    {
     "name": "stdout",
     "output_type": "stream",
     "text": [
      "{'IN': 22778, 'RP': 2, 'RB': 2}\n",
      "13.469803211942999%\n",
      "['VBD', 'VBN']\n",
      "['JJ', 'NN']\n",
      "['NN', 'NNP']\n",
      "['VB', 'VBP']\n",
      "['NNS', 'VBZ']\n",
      "['NN', 'VB']\n",
      "['NN', 'VBG']\n",
      "['JJ', 'VBD', 'VBN']\n",
      "['NN', 'VB', 'VBP']\n",
      "['JJ', 'NNP']\n",
      "('many', 7)\n",
      "('set', 7)\n",
      "('down', 7)\n",
      "('open', 7)\n"
     ]
    }
   ],
   "source": [
    "## YOUR CODE HERE ##\n",
    "from collections import defaultdict\n",
    "import operator\n",
    "\n",
    "word_and_all_pos = re.findall(r'(?: |^)([^ ]+\\|[^ ]+)', context)\n",
    "word_pos_count = {}\n",
    "for word in word_and_all_pos:\n",
    "    word_split = word.split('|')\n",
    "    \n",
    "    if word_split[0] not in word_pos_count:\n",
    "        word_pos_count[word_split[0]] = {}\n",
    "        if word_split[1] not in word_pos_count[word_split[0]]:\n",
    "            word_pos_count[word_split[0]][word_split[1]] = 1\n",
    "        else:\n",
    "            word_pos_count[word_split[0]][word_split[1]] += 1\n",
    "    else:\n",
    "        if word_split[1] not in word_pos_count[word_split[0]]:\n",
    "            word_pos_count[word_split[0]][word_split[1]] = 1\n",
    "        else:\n",
    "            word_pos_count[word_split[0]][word_split[1]] += 1\n",
    "            \n",
    "count_ambiguity = 0\n",
    "num_of_words = len(word_pos_count)\n",
    "ambiguity_values = {}\n",
    "#ambiguous_words = []\n",
    "pos_combinations = {}\n",
    "\n",
    "print(word_pos_count['of'])\n",
    "\n",
    "for word, pos_dict in word_pos_count.items():\n",
    "    \n",
    "    if len(word_pos_count[word]) >= 2:\n",
    "        count_ambiguity += 1\n",
    "        ambiguity_values[word] = len(word_pos_count[word])    \n",
    "        #ambiguous_words.append(word)\n",
    "        \n",
    "        pos_combination = ''\n",
    "        sorted_pos_combination = sorted(pos_dict.items(), key=operator.itemgetter(0))\n",
    "        for pos in sorted_pos_combination:            \n",
    "            pos_combination += pos[0] + '_SEPERATOR_'           \n",
    "\n",
    "        if pos_combination not in pos_combinations:\n",
    "            pos_combinations[pos_combination] = 1\n",
    "        else:\n",
    "            pos_combinations[pos_combination] += 1\n",
    "    \n",
    "sorted_ambiguity_values = sorted(ambiguity_values.items(), key=operator.itemgetter(1), reverse=True)\n",
    "sorted_pos_combinations = sorted(pos_combinations.items(), key=operator.itemgetter(1), reverse=True)\n",
    "\n",
    "top4_ambiguous_words = sorted_ambiguity_values[:4]\n",
    "top10_pos_combinations = sorted_pos_combinations[:10]\n",
    "\n",
    "percentage_ambiguity = count_ambiguity / num_of_words\n",
    "\n",
    "print(str(percentage_ambiguity * 100) + '%')\n",
    " \n",
    "for top10_pos_combination in top10_pos_combinations:\n",
    "    top10_pos_combination_split = top10_pos_combination[0].split('_SEPERATOR_')\n",
    "    del top10_pos_combination_split[-1]\n",
    "    print(top10_pos_combination_split)\n",
    "\n",
    "for top4_ambiguous_word in top4_ambiguous_words:\n",
    "    print(top4_ambiguous_word)\n",
    "\n",
    "\n",
    "    \n",
    "#print(Counter(words))"
   ]
  },
  {
   "cell_type": "markdown",
   "metadata": {},
   "source": [
    "###### **(g)**  Print some of these words with their multiple POS-tags. Do you **understand the ambiguity**? Use figure 10.1 mentioned above to interpret the POS-tags."
   ]
  },
  {
   "cell_type": "code",
   "execution_count": 8,
   "metadata": {},
   "outputs": [
    {
     "name": "stdout",
     "output_type": "stream",
     "text": [
      "study\n",
      "VBP, NN, VB\n",
      "\n",
      "flat\n",
      "JJ, NN, RB\n",
      "\n",
      "inflicted\n",
      "VBN, VBD\n",
      "\n",
      "FIRM\n",
      "NN, NNP\n",
      "\n",
      "Today\n",
      "NN, NNP\n",
      "\n"
     ]
    }
   ],
   "source": [
    "## YOUR CODE HERE ##\n",
    "count = 0\n",
    "for word, pos_dict in word_pos_count.items():            \n",
    "    if count >= 5:\n",
    "        break\n",
    "        \n",
    "    if len(word_pos_count[word]) >= 2:\n",
    "        count += 1\n",
    "        print(word)\n",
    "        pos_string = ''\n",
    "        for pos in pos_dict:\n",
    "            pos_string += pos + ', '\n",
    "        pos_string = pos_string[0:-2]\n",
    "        print(pos_string + '\\n')"
   ]
  },
  {
   "cell_type": "markdown",
   "metadata": {},
   "source": [
    "**(h)** Ambiguous words do not account for a great percentage of the vocabulary. Yet they are among the most commonly occuring words of the English language. What **percentage of the dataset is ambiguous**?"
   ]
  },
  {
   "cell_type": "code",
   "execution_count": 9,
   "metadata": {},
   "outputs": [
    {
     "name": "stdout",
     "output_type": "stream",
     "text": [
      "55.079005800643756%\n"
     ]
    }
   ],
   "source": [
    "## YOUR CODE HERE ##\n",
    "num_ambiguous_words = 0\n",
    "for word in words:\n",
    "    if word in ambiguity_values:\n",
    "        num_ambiguous_words += 1\n",
    "percentage_ambiguous_data = num_ambiguous_words / len(words)\n",
    "print(str(percentage_ambiguous_data * 100) + '%')"
   ]
  },
  {
   "cell_type": "markdown",
   "metadata": {},
   "source": [
    "## Exercise 1.2 (10 points, 5 per subquestion)"
   ]
  },
  {
   "cell_type": "markdown",
   "metadata": {},
   "source": [
    "You are also provided with another file called **sec00.gold.tagged**. \n",
    "Section 00 of the Penn Treebank is typically used as development data."
   ]
  },
  {
   "cell_type": "markdown",
   "metadata": {},
   "source": [
    "**(a)** How many **unseen words** are present in the development data (i.e., words that have not occurred in the training data)?"
   ]
  },
  {
   "cell_type": "code",
   "execution_count": 10,
   "metadata": {
    "scrolled": false
   },
   "outputs": [
    {
     "name": "stdout",
     "output_type": "stream",
     "text": [
      "1288\n"
     ]
    }
   ],
   "source": [
    "## YOUR CODE HERE ##\n",
    "dev_context = open('sec00.gold.tagged').read()\n",
    "dev_context = dev_context.replace('\\n', '')\n",
    "dev_words = re.findall(r'(?:\\ |^)([^ ]+)(?:\\|)', dev_context)\n",
    "\n",
    "#print(words[10])\n",
    "words_dict = {}\n",
    "for word in words:\n",
    "    words_dict[word] = 1\n",
    "dev_words = list(set(dev_words))\n",
    "unseen_words = {}\n",
    "for dev_word in dev_words:\n",
    "    if dev_word not in words_dict:\n",
    "        unseen_words[dev_word] = 1\n",
    "        \n",
    "print(len(unseen_words))\n",
    "\n"
   ]
  },
  {
   "cell_type": "markdown",
   "metadata": {},
   "source": [
    "**(b)** What are the three **POS tag categories** that the most **unseen words** belong to?"
   ]
  },
  {
   "cell_type": "code",
   "execution_count": 11,
   "metadata": {
    "scrolled": true
   },
   "outputs": [
    {
     "name": "stdout",
     "output_type": "stream",
     "text": [
      "NNP\n",
      "JJ\n",
      "NN\n"
     ]
    }
   ],
   "source": [
    "## YOUR CODE HERE ##\n",
    "word_and_all_pos = re.findall(r'(?: |^)([^ ]+\\|[^ ]+)', dev_context)\n",
    "word_pos_count = {}\n",
    "for word in word_and_all_pos:\n",
    "    word_split = word.split('|')\n",
    "    \n",
    "    if word_split[0] not in word_pos_count:\n",
    "        word_pos_count[word_split[0]] = {}\n",
    "        if word_split[1] not in word_pos_count[word_split[0]]:\n",
    "            word_pos_count[word_split[0]][word_split[1]] = 1\n",
    "        else:\n",
    "            word_pos_count[word_split[0]][word_split[1]] += 1\n",
    "    else:\n",
    "        if word_split[1] not in word_pos_count[word_split[0]]:\n",
    "            word_pos_count[word_split[0]][word_split[1]] = 1\n",
    "        else:\n",
    "            word_pos_count[word_split[0]][word_split[1]] += 1\n",
    "\n",
    "pos_count = {}\n",
    "            \n",
    "for word, pos_dict in word_pos_count.items():\n",
    "    if word in unseen_words:\n",
    "        for pos in pos_dict:\n",
    "            if pos not in pos_count:\n",
    "                pos_count[pos] = 1\n",
    "            else:\n",
    "                pos_count[pos] += 1\n",
    "\n",
    "pos_count = sorted(pos_count.items(), key=operator.itemgetter(1), reverse=True)\n",
    "\n",
    "for i in range(3):\n",
    "    print(pos_count[i][0])"
   ]
  },
  {
   "cell_type": "markdown",
   "metadata": {},
   "source": [
    "# 2. Language Models\n",
    "\n",
    "This part of the lab will be covered in the Wednesday lecture. If you have prior exposure to NLP, go ahead and finish this part! If you don't, start anyway, and this part will be clear after the lecture. \n",
    "\n",
    "Reference **chapter 4** of J&M *Language Modeling with N-Grams*. \n",
    "\n",
    "----------\n",
    "\n",
    "Models that assign **probabilities** to **sequences of words** are called language **language\n",
    "modelels** or **LMs**. The simplest model that assigns probabilities to sentences and sequences of words is the **N-gram** model.\n",
    "\n",
    "Recall that an *N*-gram language model uses **conditional probabilities** of the form\n",
    "    \n",
    "$$P(w_k \\mid w_{k-N+1} \\dots w_{k-1})$$\n",
    "\n",
    "to **approximate** the full **joint probability**\n",
    "\n",
    "$$P(w_1 \\dots w_n)$$\n",
    "\n",
    "of a sequence of words $w_1 \\dots w_n$.\n",
    "\n",
    "The easiest way of obtaining estimates for the probabilities $P(w_k \\mid w_{k-N+1} \\dots w_{k-1})$ is to use the **maximum likelihood estimate** or **MLE**, a widely used statistical estimation method ([read more]((https://en.wikipedia.org/wiki/Maximum_likelihood_estimation)). You count and normalize:\n",
    "\n",
    "$$P_{MLE}(w_k \\mid w_{k-N+1} \\dots w_{k-1}) = \\frac{C(w_{k-N+1} \\dots w_{k-1} w_k)}{C(w_{k-N+1} \\dots w_{k-1})}.$$\n",
    "\n",
    "\n",
    "## Exercise 2.1 (25 points)\n",
    "\n",
    "**(a) ** Complete the function `train_ngram` so that you can train a count-based $N$-gram language model on the data found in `data/ted-train.txt` and train this for $N=2,3,4$. **15 points**\n",
    "\n",
    "**(b) ** Extend the function above so that it accepts a parameter `k` for optional add-$k$ smoothing. **10 points**\n",
    "\n",
    "**[Datastructure hint]** If you store the smoothed language in a naive manner (that is, to store *all* the numbers separately) your datastructure will get huge! If $V$ is the vocabulary then the smoothed bigram model assigns probabilities to $|V|^2$ entries. If $|V|$ is around 80k, the naive way requires you to store more than 64 billion floats. Yet almost all of these are actually just $P(w_n|w_{n-1}) = \\frac{k}{N + k|V|}$, with $k$ the value with which you smooth and $N=C(w_{n-1})$. Think about how you use this fact to make your model work in practice."
   ]
  },
  {
   "cell_type": "markdown",
   "metadata": {},
   "source": [
    "**[Python hint]** The `collections` library has another useful datastructure: the `defaultdict`. Some example uses:"
   ]
  },
  {
   "cell_type": "code",
   "execution_count": 12,
   "metadata": {},
   "outputs": [
    {
     "data": {
      "text/plain": [
       "0.0"
      ]
     },
     "execution_count": 12,
     "metadata": {},
     "output_type": "execute_result"
    }
   ],
   "source": [
    "from collections import defaultdict\n",
    "\n",
    "d = defaultdict(float)\n",
    "d[\"new key\"]"
   ]
  },
  {
   "cell_type": "markdown",
   "metadata": {},
   "source": [
    "Compare that to an ordinary dictionary:"
   ]
  },
  {
   "cell_type": "code",
   "execution_count": 13,
   "metadata": {
    "collapsed": true
   },
   "outputs": [],
   "source": [
    "d = dict()\n",
    "#d[\"new key\"]"
   ]
  },
  {
   "cell_type": "markdown",
   "metadata": {},
   "source": [
    "Other datatypes as `default_factory`:"
   ]
  },
  {
   "cell_type": "code",
   "execution_count": 14,
   "metadata": {},
   "outputs": [
    {
     "data": {
      "text/plain": [
       "0"
      ]
     },
     "execution_count": 14,
     "metadata": {},
     "output_type": "execute_result"
    }
   ],
   "source": [
    "d = defaultdict(int)\n",
    "d[\"new key\"]"
   ]
  },
  {
   "cell_type": "code",
   "execution_count": 15,
   "metadata": {},
   "outputs": [
    {
     "data": {
      "text/plain": [
       "[]"
      ]
     },
     "execution_count": 15,
     "metadata": {},
     "output_type": "execute_result"
    }
   ],
   "source": [
    "d = defaultdict(list)\n",
    "d[\"new key\"]"
   ]
  },
  {
   "cell_type": "markdown",
   "metadata": {},
   "source": [
    "Converting an already existing `dict`:"
   ]
  },
  {
   "cell_type": "code",
   "execution_count": 16,
   "metadata": {
    "scrolled": false
   },
   "outputs": [
    {
     "name": "stdout",
     "output_type": "stream",
     "text": [
      "value\n",
      "0.0\n"
     ]
    }
   ],
   "source": [
    "d1 = {k: \"value\" for k in range(1, 11)}\n",
    "d = defaultdict(float, d1) # convert it to a defaultdict\n",
    "print(d[5])\n",
    "print(d[20])"
   ]
  },
  {
   "cell_type": "markdown",
   "metadata": {},
   "source": [
    "This doesn't work:"
   ]
  },
  {
   "cell_type": "code",
   "execution_count": 17,
   "metadata": {
    "collapsed": true
   },
   "outputs": [],
   "source": [
    "#d = defaultdict(10)"
   ]
  },
  {
   "cell_type": "markdown",
   "metadata": {},
   "source": [
    "Use a `lambda` to make the number `10` `callable`\":"
   ]
  },
  {
   "cell_type": "code",
   "execution_count": 18,
   "metadata": {},
   "outputs": [
    {
     "data": {
      "text/plain": [
       "10"
      ]
     },
     "execution_count": 18,
     "metadata": {},
     "output_type": "execute_result"
    }
   ],
   "source": [
    "d = defaultdict(lambda: 10)\n",
    "d[\"new key\"]"
   ]
  },
  {
   "cell_type": "code",
   "execution_count": 19,
   "metadata": {},
   "outputs": [
    {
     "data": {
      "text/plain": [
       "0.0"
      ]
     },
     "execution_count": 19,
     "metadata": {},
     "output_type": "execute_result"
    }
   ],
   "source": [
    "d = defaultdict(lambda: defaultdict(float))\n",
    "d[\"new key\"]['a']"
   ]
  },
  {
   "cell_type": "code",
   "execution_count": null,
   "metadata": {
    "collapsed": true
   },
   "outputs": [],
   "source": []
  },
  {
   "cell_type": "markdown",
   "metadata": {},
   "source": [
    "Clever use of a `defaultdict` can be the solution to the problem of data-storing in a smoothing $N$-gram pointed out above:\n",
    "    \n",
    "    ngram = defaultdict(lambda: k/(N+kV), ngram)"
   ]
  },
  {
   "cell_type": "markdown",
   "metadata": {},
   "source": [
    "The following function is given:"
   ]
  },
  {
   "cell_type": "code",
   "execution_count": 20,
   "metadata": {
    "collapsed": true
   },
   "outputs": [],
   "source": [
    "train_file = \"ted-train.txt\"\n",
    "\n",
    "def read(fname, max_lines=np.inf):\n",
    "    \"\"\"\n",
    "    Reads in the data in fname and returns it as\n",
    "    one long list of words. Also returns a vocabulary in\n",
    "    the form of a word2index and index2word dictionary.\n",
    "    \"\"\"\n",
    "    data = []\n",
    "    # w2i will automatically keep a counter to asign to new words\n",
    "    w2i = defaultdict(lambda: len(w2i))\n",
    "    i2w = dict()\n",
    "    start = \"<s>\"\n",
    "    end = \"</s>\"\n",
    "    \n",
    "    with open(fname, \"r\") as fh:\n",
    "        for k, line in enumerate(fh):\n",
    "            if k > max_lines:\n",
    "                break\n",
    "            words = line.strip().split()\n",
    "            # assign an index to each word\n",
    "            for w in words:\n",
    "                i2w[w2i[w]] = w # trick\n",
    "            \n",
    "            sent = [start] + words + [end]\n",
    "            data.append(sent)\n",
    "\n",
    "    return data, w2i, i2w"
   ]
  },
  {
   "cell_type": "code",
   "execution_count": 21,
   "metadata": {},
   "outputs": [
    {
     "name": "stdout",
     "output_type": "stream",
     "text": [
      "0\n",
      "1\n"
     ]
    }
   ],
   "source": [
    "for i in range(2):\n",
    "    print(i)"
   ]
  },
  {
   "cell_type": "code",
   "execution_count": 22,
   "metadata": {},
   "outputs": [],
   "source": [
    "def train_ngram(data, N, k=0):\n",
    "    \"\"\"\n",
    "    Trains an n-gram language model with optional add-k smoothing\n",
    "    and additionaly returns the unigram model\n",
    "\n",
    "    :param data: text-data as returned by read\n",
    "    :param N: (N>1) the order of the ngram e.g. N=2 gives a bigram\n",
    "    :param k: optional add-k smoothing\n",
    "    :returns: ngram and unigram\n",
    "    \"\"\"\n",
    "    ngram = defaultdict(Counter) # ngram[history][word] = #(history,word)\n",
    "    unpacked_data = [word for sent in data for word in sent]\n",
    "    unigram = defaultdict(float, Counter(unpacked_data)) # default prob is 0.0    \n",
    "    \n",
    "    ## YOUR CODE HERE ##\n",
    "    #TODO: Normalize??\n",
    "    V = len(unigram)\n",
    "    num_of_word_tokens = len(unpacked_data)    \n",
    "    for i in range(N-1, len(unpacked_data)): \n",
    "        #if i > 100:\n",
    "        #    break\n",
    "        context = tuple(unpacked_data[i - N + 1:i])        \n",
    "        ngram[context][unpacked_data[i]] += 1\n",
    "        \n",
    "    for context, count in ngram.items():\n",
    "        total = sum(count.values())    \n",
    "        for word in count:\n",
    "            count[word] += k\n",
    "            count[word] /= (total+k*V)\n",
    "        ngram[context] = defaultdict(lambda: k/(total+k*V), ngram[context])\n",
    "                    \n",
    "    for context, count in unigram.items():    \n",
    "        unigram[context] /= (num_of_word_tokens + k*V)\n",
    "        \n",
    "    unigram = defaultdict(lambda: k/(total+k*V), unigram)\n",
    "    #  unigram[context] /= (num_of_word_tokens + k*V)\n",
    "    #  unigram[context] = defaultdict(lambda: k/(total+k*V), unigram[context])\n",
    "    \n",
    "    return ngram, unigram\n",
    "\n",
    "data, w2i, i2w = read(train_file)\n",
    "bigram, unigram = train_ngram(data, N=2, k=0)\n",
    "#print(unigram)\n",
    "#ngram, unigram = train_ngram(data, N=3, k=0)\n",
    "bigram_smoothed, unigram_smoothed = train_ngram(data, N=2, k=1)"
   ]
  },
  {
   "cell_type": "code",
   "execution_count": null,
   "metadata": {},
   "outputs": [],
   "source": []
  },
  {
   "cell_type": "markdown",
   "metadata": {},
   "source": [
    "## Exercise 2.2 (5 points)\n",
    "\n",
    "You can use an *N*-gram language model to **generate text**. The higher the order *N* the better your model will be able to catch the long-range dependecies that occur in actual sentences and the better your changes are at generating sensible text. But beware: **sparsity** of language data will quickly cause your model to reproduce entire lines from your training data; in such cases only one $w_k$ was observed for the histories $w_{k-N+1}\\dots w_{k-1}$ in the entire training-set.\n",
    "\n",
    "**Complete** the function `generate_sent`. It takes a language model `lm` and an order `N` and should generate a sentence by **sampling** from the language model.\n",
    "\n",
    "**[Hint]** You can use the method of [inverse transform sampling](https://en.wikipedia.org/wiki/Inverse_transform_sampling) to generate a sample from a **categorical distribution**, $p_1\\dots p_k$ such that $p_i \\geq 0$ and $\\sum_{i=1}^k p_i = 1$, as follows:"
   ]
  },
  {
   "cell_type": "code",
   "execution_count": 23,
   "metadata": {
    "scrolled": true
   },
   "outputs": [
    {
     "name": "stdout",
     "output_type": "stream",
     "text": [
      "1\n",
      "Counter({2: 518, 1: 201, 3: 192, None: 89})\n"
     ]
    }
   ],
   "source": [
    "from random import random\n",
    "\n",
    "P = [0.2,0.5,0.2,0.1]\n",
    "\n",
    "def sample(P):\n",
    "    u = random() # uniformly random number between 0 and 1\n",
    "    p = 0\n",
    "    for i, p_i in enumerate(P):\n",
    "        if p > u: \n",
    "            return i # the first i s.t. p1 + ... + pi > u\n",
    "        p += p_i\n",
    "\n",
    "print(sample(P))\n",
    "\n",
    "print(Counter([sample(P) for i in range(1000)])) # check to see if the law of large numbers is still true"
   ]
  },
  {
   "cell_type": "markdown",
   "metadata": {},
   "source": [
    "Inverse transform sampling in the words of Jurafsky and Martin:\n",
    "\n",
    "> Imagine all the words of the English language covering the probability space\n",
    "between 0 and 1, each word covering an interval proportional to its frequency. We\n",
    "choose a random value between 0 and 1 and print the word whose interval includes\n",
    "this chosen value.\n",
    "\n",
    "(J&M, section 4.3)"
   ]
  },
  {
   "cell_type": "code",
   "execution_count": 24,
   "metadata": {
    "scrolled": false
   },
   "outputs": [
    {
     "name": "stdout",
     "output_type": "stream",
     "text": [
      "<s> I am alive . </s> <s> Anesthetize you , Steve Zaffron and I traveled around the trend really caught up with much success last summer when they raise these funds have committed acts of violence which kills thousands of old bicycle parts using a much wiser future . </s> <s> Epiphany hit me today there was much possibility of intimacy using all natural gestures . </s> <s> Omidyar Network . </s> <s> Desirable ? Maybe there 's hope in the armrests to absorb at any images that show its fanning motion because of violence which kills thousands of old bicycle parts using a much wiser future . </s> <s> Vexillologists call these hyperinstruments -- for instance at \"Minute Physics ,\" a Handspring Production from 1995 , there goes one city block . </s> <s> Bedouins call the terrorist incidents occurred in Haiti : he somehow , in Munich a few oddballs like me : almost everyone sees , the Sasquatch , Bigfoot , whatever reason -- which helps you with : a site which allows our mind works . </s> <s> Bang . </s> <s> Neuroscience is hopeless -- we play chess and so although I must thank Herbie Hancock was playing drums on . </s> <s> Bedouins call the terrorist incidents occurred in Haiti : he somehow , in Munich a few oddballs like me : almost everyone sees , the Sasquatch , Bigfoot , whatever reason -- which helps you with : a site which allows our mind works . </s> <s> Identical in shape . </s> <s> Slick Rick 's sing-songy , super-catchy vocals , theme and tempo . </s> <s> Parking 's really much more powerful earners than the growth phases , which together with Steve Ballmer as Microsoft got bigger at an old journal . </s> <s> Side street in Venice in June 2013 have taught a lesson on how much misunderstanding and pain receptors in your face : no efficacy . </s> <s> Marduk tells Cyrus that he slept one hour at a strip on the spectrum : our goal : the Party took power , nuclear weapons at targets , legitimate things of much more powerful earners than the growth phases , which together with Steve Ballmer as Microsoft got bigger at an old journal . </s> <s> Saturn is really informing the way Gillian Ishijima did . </s> <s> Bedouins call the \"paradigms . </s> <s> Kant was very much alive when \"La Di Da Di\" was made entirely using just my new home under a full page ad at the spectrum : our goal : the Party took power , nuclear weapons at targets , legitimate things of much more powerful earners than the growth phases , which together with Steve Ballmer as Microsoft got bigger at an old journal . </s> <s> [Unclear] told us about dark matter : particles in them prohibiting making life more emotionally important parts so you cannot chose your nationality , language has rules . </s> <s> Vexillologists call these hyperinstruments -- for instance at \"Minute Physics ,\" a Handspring Production from 1995 , there goes one city block . </s> <s> Paddy Ashdown , who treated victims of violence which kills thousands of old bicycle parts using a much wiser future . </s> <s> Aloha . </s> <s> Disease and infections are getting treated . </s> <s> Bedouins call the terrorist incidents occurred in Haiti : he somehow , in Munich a few oddballs like me : almost everyone sees , the Sasquatch , Bigfoot , whatever reason -- which helps you with : a site which allows our mind works . </s> <s> Family size is prized , the Sasquatch , Bigfoot , whatever reason -- which helps you with : a site which allows our mind works . </s> <s> Bedouins call the terrorist incidents occurred in Haiti : he somehow , in Munich a few oddballs like me : almost everyone sees , the Sasquatch , Bigfoot , whatever reason -- which helps you with : a site which allows our mind works . </s> <s> Are there dark , there goes one city block . </s> <s> Booted up in almost perfect . </s> <s> Bang . </s> <s> Parking 's really much more powerful earners than the growth phases , which together with Steve Ballmer as Microsoft got bigger at an old journal . </s> <s> Five-year-olds lie outright . </s> <s> Daddy 's got dark matter : particles in them prohibiting making life more emotionally important parts so you cannot chose your nationality , language has rules . </s> <s> Bang . </s> <s> Gets up to much of its global violent deaths around the trend really caught up with much success last summer when they raise these funds have committed acts of violence which kills thousands of old bicycle parts using a much wiser future . </s> <s> Parking 's really much more powerful earners than the growth phases , which indicates that there 'd also seen how much misunderstanding and pain receptors in your face : no efficacy . </s> <s> Thirty-eight percent of toilets working in full combat gear . </s> <s> Are there dark , there goes one city block . </s> <s> Bedouins call the terrorist incidents occurred in Haiti : he somehow , in Munich a few oddballs like me : almost everyone sees , the honeycomb theorem , a vaccine at some old city layout that follows . </s> <s> Bedouins call the terrorist incidents occurred in Haiti : he somehow , in females and males have a vaccine at some old city layout that follows . </s> <s> Expressive spaces may disturb us . </s> <s> Are there dark , there goes one city block . </s> <s> Coprolites are fossilized corals , lots in Rio today . </s> <s> \"Discouraging data on its dark side . </s> <s> [Unclear] told us about dark matter : particles in them prohibiting "
     ]
    }
   ],
   "source": [
    "N_grams = 3\n",
    "ngram, unigram = train_ngram(data, N_grams, 1)    \n",
    "#TODO what's lm?\n",
    "\n",
    "def generate_sent(lm, N):\n",
    "    global N_grams, ngram\n",
    "    \n",
    "    for i in range(N_grams - 1, N):\n",
    "        tuple_list = []\n",
    "        #print(i, N_grams, i - N_grams) \n",
    "        for j in range(i - N_grams + 2, i + 1):\n",
    "            if j < 0:\n",
    "                j = 0\n",
    "            #print(j)\n",
    "            tuple_list.append(lm[j])\n",
    "        tuple_lm = tuple(tuple_list)\n",
    "        #print(tuple_lm)\n",
    "        #print(ngram[tuple_lm])\n",
    "        s = sample(list(ngram[tuple_lm].values()))\n",
    "        if s is None:\n",
    "            s = 0\n",
    "        #print('hi', ngram[tuple_lm].keys())\n",
    "        lm.append(list(ngram[tuple_lm].keys())[s])\n",
    "    \n",
    "    return lm\n",
    "            \n",
    "    \n",
    "lm = generate_sent(['<s>', 'I', 'am'], 1000)\n",
    "for word in lm:\n",
    "    print(word, end=\" \")"
   ]
  },
  {
   "cell_type": "markdown",
   "metadata": {},
   "source": [
    "### [Optional]\n",
    "\n",
    "For how many of the histories $w_{k-N+1}\\dots w_{k-1}$ is the number of continuations $w_n$ equal to **one**? Calculate the percentage of such cases for the different orders *N*.\n",
    "\n",
    "And which history has the **most possible continuations**?"
   ]
  },
  {
   "cell_type": "code",
   "execution_count": 25,
   "metadata": {
    "collapsed": true
   },
   "outputs": [],
   "source": [
    "### ANSWER ###"
   ]
  },
  {
   "cell_type": "markdown",
   "metadata": {},
   "source": [
    "## Excercise 2.3 (5 points)\n",
    "\n",
    "Let $V$ denote our vocabulary. Recall that for any $w$ in $V$ `bigram[w]` defines a conditional probability $p(v|w)$ over $v$ in $V$. In the case of an **unsmoothed bigram**, $p(v|w) = 0$ for most $v\\in V$, whereas in the **smoothed bigram** smoothing took care that $p(v|w) \\geq 0$ for *all* $v$.\n",
    "\n",
    "The function `plot_bigram_dist(word, bigram, smoothbigram, k=30)` plots shows $p(v|word)$ for the `k` words $v$. One bar shows the probabilities in `bigram` and one in `smoothbigram`. \n",
    "\n",
    "**(a)** Use this function to plot the distribution for at least two words `w` and answer the questions\n",
    "* What is the effect of smoothing on the bigram distribution of frequent words? \n",
    "* What is the effect in the case of infrequent words?\n",
    "* Explain the difference between the two based on the raw counts of `w` \n",
    "\n",
    "**(b)** Now experiment with $k$ much smaller than 1 (but greater than 0!) \n",
    "* What are the effects?\n",
    "\n",
    "\n",
    "**[Hint]** Remember that add-1 smoothing turns \n",
    "$$P(w_n\\mid w_{n-1}) = \\frac{C(w_{n-1}w_{n})}{C(w_{n-1})}$$\n",
    "into\n",
    "$$P_{add-1}(w_n\\mid w_{n-1}) = \\frac{C(w_{n-1}w_{n}) + 1}{C(w_{n-1}) + |V|}.$$\n",
    "\n",
    "What happens when $C(w_{n-1})$ is relatively big (similiar in of size as $ |V| $)? And what if $C(w_{n-1})$ is small? "
   ]
  },
  {
   "cell_type": "code",
   "execution_count": 26,
   "metadata": {},
   "outputs": [],
   "source": [
    "import pandas as pd\n",
    "import seaborn as sns    \n",
    "\n",
    "def plot_bigram_dist(word, bigram, smoothbigram, k=30):\n",
    "    d = bigram[word]\n",
    "    ds = smoothbigram[word]\n",
    "    \n",
    "    # sort the probabilities\n",
    "    d_sort = sorted(d.items(), reverse=True, key=lambda t: t[1])[0:k]\n",
    "    ds_sort = sorted(ds.items(), reverse=True, key=lambda t: t[1])[0:k]\n",
    "    \n",
    "    _, probs = zip(*d_sort)\n",
    "    smooth_ws, smooth_probs = zip(*ds_sort)\n",
    "    \n",
    "    # make up for the fact that in the unsmoothed case  probs is generally less than k long\n",
    "    probs = probs + (0,) * (k-len(probs)) \n",
    "\n",
    "    w_data = pd.DataFrame({\"w\": smooth_ws * 2,\n",
    "                           \"P({}|w)\".format(word): probs + smooth_probs,\n",
    "                           \"smoothing\": [\"unsmoothed\"]*k + [\"smoothed\"]*k})\n",
    "    \n",
    "    fig, ax = plt.subplots(figsize=(10,10))\n",
    "    plt.xticks(rotation=90)\n",
    "    g = sns.barplot(ax=ax, x=\"w\", y=\"P({}|w)\".format(word), hue=\"smoothing\",\n",
    "                    data=w_data, palette=\"Blues_d\")    "
   ]
  },
  {
   "cell_type": "code",
   "execution_count": 27,
   "metadata": {},
   "outputs": [
    {
     "data": {
      "image/png": "[encoded data removed]",
      "text/plain": [
       "<matplotlib.figure.Figure at 0x7fde13428128>"
      ]
     },
     "metadata": {},
     "output_type": "display_data"
    },
    {
     "data": {
      "image/png": "[encoded data removed]",
      "text/plain": [
       "<matplotlib.figure.Figure at 0x7fddf6f2d7b8>"
      ]
     },
     "metadata": {},
     "output_type": "display_data"
    }
   ],
   "source": [
    "## YOUR CODE HERE ##\n",
    "word = ('the', )\n",
    "plot_bigram_dist(word, bigram, bigram_smoothed, k=5)\n",
    "\n",
    "word = ('environments', )\n",
    "plot_bigram_dist(word, bigram, bigram_smoothed, k=5)"
   ]
  },
  {
   "cell_type": "markdown",
   "metadata": {},
   "source": [
    "YOUR ANSWERS HERE"
   ]
  },
  {
   "cell_type": "markdown",
   "metadata": {},
   "source": [
    "\n",
    "**Recall** that if we have a sentence $w_1,\\dots,w_n$ we can write\n",
    "\n",
    "$$P(w_1\\dots w_n) = P(w_1)P(w_2|w_1) \\cdots P(w_i|w_1 \\dots w_{n-1}) \\approx P(w_1)P(w_2|w_1)\\cdots P(w_{N-1}|w_1\\dots w_{N-2})\\prod_{i=N}^{n} P(w_i|w_{i-(N-1)}\\dots w_{i-1})$$\n",
    "\n",
    "where in the last step we make an $N$-gram approximation of the full conditionals.\n",
    "\n",
    "For example, in the case of a bigram (N=2), the above expression reduces to\n",
    "\n",
    "$$P(w_1 \\dots w_n)\\approx P(w_1)\\prod_{i=2}^{n} P(w_i| w_{i-1}).$$\n",
    "\n",
    "## Exercise 2.4 (5 points)\n",
    "\n",
    "The following sentences are taken from the **training data**. Use your **unsmoothed unigram**, **bigram**, and **trigram** language model to estimate their **probabilities**:\n",
    "\n",
    "    1. Every day was about creating something new .\n",
    "    2. In this machine , a beam of protons and anti-protons are accelerated to near the speed of light and brought \n",
    "       together in a collision , producing a burst of pure energy .\n",
    "\n",
    "**Repeat** this with the **smoothed (add-1)** versions of the N-grams. What is the effect of smoothing on the probabilities?\n"
   ]
  },
  {
   "cell_type": "code",
   "execution_count": 28,
   "metadata": {
    "collapsed": true
   },
   "outputs": [],
   "source": [
    "## YOUR CODE HERE ##\n",
    "trigram, unigram = train_ngram(data, N=3, k=0)\n",
    "trigram_smoothed, unigram_smoothed = train_ngram(data, N=3, k=1)"
   ]
  },
  {
   "cell_type": "code",
   "execution_count": 29,
   "metadata": {},
   "outputs": [
    {
     "name": "stdout",
     "output_type": "stream",
     "text": [
      "3.872294611692821e-24\n",
      "4.667998867880972e-17\n",
      "0.0\n",
      "3.468722815503699e-24\n",
      "1.7626843091651718e-26\n",
      "0.0\n",
      "1.2243871780824797e-99\n",
      "2.0159953795734388e-72\n",
      "0.0\n",
      "7.883582070585041e-100\n",
      "2.0095422945886214e-116\n",
      "0.0\n"
     ]
    }
   ],
   "source": [
    "def compute_sentence_probability(sentence, grams):\n",
    "    sentence = sentence.split(' ')\n",
    "    for N, ngram in grams.items():\n",
    "        probability = 1\n",
    "        for idx_word, word in enumerate(sentence):\n",
    "            #print(word)\n",
    "            tuple_list = []\n",
    "            for j in range(idx_word - N + 1, idx_word, 1):   \n",
    "                #print('j', j)\n",
    "                if j < 0:\n",
    "                    tuple_list.append('<s>')\n",
    "                    continue\n",
    "                tuple_list.append(sentence[j])          \n",
    "            tuple_words = tuple(tuple_list)        \n",
    "            if N == 1:\n",
    "                probability *= ngram[word]\n",
    "            else:\n",
    "                #TODO fix bug for <s> <s>\n",
    "                '''if N == 3:\n",
    "                    print('tuple', tuple_words)\n",
    "                    print('word', word)\n",
    "                    print(ngram[tuple_words][word])'''\n",
    "                probability *= ngram[tuple_words][word]\n",
    "        print(probability)\n",
    "\n",
    "sentence1 = 'Every day was about creating something new .'\n",
    "grams = {1: unigram, 2: bigram, 3: trigram}\n",
    "grams_smoothed = {1: unigram_smoothed, 2: bigram_smoothed, 3: trigram_smoothed}                \n",
    "\n",
    "compute_sentence_probability(sentence1, grams)\n",
    "compute_sentence_probability(sentence1, grams_smoothed)\n",
    "\n",
    "sentence2 = 'In this machine , a beam of protons and anti-protons are accelerated to near the \\\n",
    "speed of light and brought together in a collision , producing a burst of pure energy .'\n",
    "\n",
    "compute_sentence_probability(sentence2, grams)\n",
    "compute_sentence_probability(sentence2, grams_smoothed)\n",
    "\n"
   ]
  },
  {
   "cell_type": "code",
   "execution_count": 30,
   "metadata": {},
   "outputs": [
    {
     "name": "stdout",
     "output_type": "stream",
     "text": [
      "2.569142035017406e-05\n"
     ]
    }
   ],
   "source": [
    "print(ngram[('Every', 'day')]['was'])"
   ]
  },
  {
   "cell_type": "markdown",
   "metadata": {},
   "source": [
    "YOUR ANSWERS HERE"
   ]
  },
  {
   "cell_type": "markdown",
   "metadata": {},
   "source": [
    "## Exercise 2.5 (5 points)\n",
    "\n",
    "The above sentences were taken from the training set, hence they will all have probability greater than 0. The big challenge for our language model are of course with sentence that contain unseen N-grams: if such an N-gram occurs our model immediately assigns the sentence probability zero.\n",
    "\n",
    "The following three senteces are taken from the **test set** availlable in the file **ted-test.txt**. What probabilities do your smoothed and unsmoothed language models asign in this case?\n",
    "\n",
    "    1. Because these robots are really safe .\n",
    "    2. We have sheer nothingness on one side , and we have this vision of a reality that encompasses every \n",
    "       conceivable world at the other extreme : the fullest possible reality , nothingness , the simplest possible \n",
    "       reality ."
   ]
  },
  {
   "cell_type": "code",
   "execution_count": 31,
   "metadata": {
    "collapsed": true
   },
   "outputs": [],
   "source": [
    "test_file = \"ted-test.txt\"\n",
    "test_data, w2i, i2w = read(test_file)"
   ]
  },
  {
   "cell_type": "code",
   "execution_count": 32,
   "metadata": {},
   "outputs": [
    {
     "name": "stdout",
     "output_type": "stream",
     "text": [
      "1.5882891987421722e-21\n",
      "2.6913665324688018e-15\n",
      "0.0\n",
      "1.44246617128044e-21\n",
      "9.379248193377376e-24\n",
      "0.0\n",
      "1.644516327607194e-117\n",
      "0.0\n",
      "0.0\n",
      "9.749759740340112e-118\n",
      "1.8346504408078154e-126\n",
      "0.0\n"
     ]
    }
   ],
   "source": [
    "### YOUR CODE HERE ###\n",
    "sentence1 = 'Because these robots are really safe .'\n",
    "\n",
    "compute_sentence_probability(sentence1, grams)\n",
    "compute_sentence_probability(sentence1, grams_smoothed)\n",
    "\n",
    "sentence2 = 'We have sheer nothingness on one side , and we have this vision of a reality that encompasses every \\\n",
    "conceivable world at the other extreme : the fullest possible reality , nothingness , the simplest possible \\\n",
    "reality .'\n",
    "\n",
    "compute_sentence_probability(sentence2, grams)\n",
    "compute_sentence_probability(sentence2, grams_smoothed)"
   ]
  },
  {
   "cell_type": "markdown",
   "metadata": {},
   "source": [
    "YOUR ANSWERS HERE"
   ]
  },
  {
   "cell_type": "markdown",
   "metadata": {},
   "source": [
    "### [Optional]\n",
    "\n",
    "**Optional** What percentage of the sentences in the test set get assigned probability 0 under your smoothed and unsmoothed language models? "
   ]
  },
  {
   "cell_type": "code",
   "execution_count": 33,
   "metadata": {
    "collapsed": true
   },
   "outputs": [],
   "source": [
    "### ANSWER HERE ###"
   ]
  },
  {
   "cell_type": "markdown",
   "metadata": {},
   "source": [
    "## Exercise 2.6 (5 points)\n",
    "\n",
    "**Perplexity** is very frequently used **metric** for evaluating probabilistic models such as language models. The perplexity (sometimes called **PP** for short) of a language model on a sentence is the **inverse probability** of the sentence, **normalized** by the number of words:\n",
    "\n",
    "$$PP(w_1 \\dots w_n) = P(w_1\\dots w_n)^{-\\frac{1}{n}}.$$\n",
    "\n",
    "Here we can again approximate $P(w_1 \\dots w_n)$ with N-gram probabilities, as above.\n",
    "Note: $(x_1\\cdots x_n)^{-\\frac{1}{n}}$ is the **geometric mean** of the numbers $x_1,\\dots,x_n$. It is like the (regular) artithmetic mean, but with **products** instead of **sums**. The geometric mean is a more natural choice in the case of *PP* because behind $P(w_1\\dots w_n)$ is a series of $n$ products ([more here](https://en.wikipedia.org/wiki/Geometric_mean)).\n",
    "\n",
    "\n",
    "\n",
    "Compute the perplexity of the training sentences from excercise 2.1. What big difference between the **probabilities** of the sentences and the **perplexities** of the sentences do you notice?"
   ]
  },
  {
   "cell_type": "code",
   "execution_count": 34,
   "metadata": {
    "collapsed": true
   },
   "outputs": [],
   "source": [
    "### YOUR CODE HERE ###\n",
    "def train_ngram_perplexity(data, N, k=0):\n",
    "    \"\"\"\n",
    "    Trains an n-gram language model with optional add-k smoothing\n",
    "    and additionaly returns the unigram model\n",
    "\n",
    "    :param data: text-data as returned by read\n",
    "    :param N: (N>1) the order of the ngram e.g. N=2 gives a bigram\n",
    "    :param k: optional add-k smoothing\n",
    "    :returns: ngram and unigram\n",
    "    \"\"\"\n",
    "    ngram = defaultdict(Counter) # ngram[history][word] = #(history,word)\n",
    "    unpacked_data = [word for sent in data for word in sent]\n",
    "    unigram = defaultdict(float, Counter(unpacked_data)) # default prob is 0.0    \n",
    "    \n",
    "    ## YOUR CODE HERE ##\n",
    "    #TODO: Normalize??\n",
    "    V = len(unigram)\n",
    "    num_of_word_tokens = len(unpacked_data)    \n",
    "    for i in range(N-1, len(unpacked_data)): \n",
    "        #if i > 100:\n",
    "        #    break\n",
    "        context = tuple(unpacked_data[i - N + 1:i])        \n",
    "        ngram[context][unpacked_data[i]] += 1\n",
    "        \n",
    "    for context, count in ngram.items():\n",
    "        total = sum(count.values())    \n",
    "        for word in count:\n",
    "            count[word] += k\n",
    "            count[word] /= (total+k*V)\n",
    "            np.power(count[word], -1/total)\n",
    "        ngram[context] = defaultdict(lambda: k/(total+k*V), ngram[context])\n",
    "                    \n",
    "    for context, count in unigram.items():    \n",
    "        unigram[context] /= (num_of_word_tokens + k*V)\n",
    "        np.power(unigram[context], -1/num_of_word_tokens)\n",
    "        \n",
    "    unigram = defaultdict(lambda: k/(total+k*V), unigram)\n",
    "    #  unigram[context] /= (num_of_word_tokens + k*V)\n",
    "    #  unigram[context] = defaultdict(lambda: k/(total+k*V), unigram[context])\n",
    "    \n",
    "    return ngram, unigram\n",
    "\n",
    "bigram, unigram = train_ngram_perplexity(data, N=2, k=0)\n",
    "bigram_smoothed, unigram_smoothed = train_ngram_perplexity(data, N=2, k=1)"
   ]
  },
  {
   "cell_type": "code",
   "execution_count": 35,
   "metadata": {},
   "outputs": [
    {
     "data": {
      "text/plain": [
       "4.985088354459723e-06"
      ]
     },
     "execution_count": 35,
     "metadata": {},
     "output_type": "execute_result"
    }
   ],
   "source": [
    "unigram['hello']"
   ]
  },
  {
   "cell_type": "markdown",
   "metadata": {},
   "source": [
    "YOUR ANSWER HERE"
   ]
  },
  {
   "cell_type": "markdown",
   "metadata": {},
   "source": [
    "# That's it!\n",
    "\n",
    "Congratulations, you have made it to the end of the tutorial. Here we will recap the gist of this notebook. \n",
    "\n",
    "**Make sure all your cells can be executed and all your answers are there. Then, read on if you're interested!**\n",
    "\n",
    "-----\n",
    "\n",
    "By now you should have a solid feeling for the problem of **sparsity in language data**; there's just never enough data. For the task of language modelling, we saw that sparsity is a serious challenge. \n",
    "\n",
    "It would be great to be able to model $p(w_n|w_1 \\dots w_{n-1})$ for unlimited $n$: the larger $n$ the better our language model should become at capturing the long-range dependencies between words that characterize actual human sentences, and the more probability our model will asign to such sentences as opposed to sentences that are word-soup. But in the N-gram approach, increasing $n$ will quickly kill all generalizing abilities of the model: the model will start to asign probabilities only to sentences it has seen in the training data.\n",
    "\n",
    "So, where to go from here? Here are three directions that we could head in.\n",
    "\n",
    "### Smoothing\n",
    "\n",
    "We have seen one example of smoothing in this lab: add-k smoothing. This is an easy method, both conceptually and implementation-wise. But the results are not great, and the effects it has on the distributions can be extreme.\n",
    "\n",
    "A much more sophisticated method of smoothing is so-called **Kneser-Ney smoothing**. The method is described in detail in section 4.5 of J&M (3rd edition). This is one of the best performing N-gram smoothing methods, and up to a few years ago a popular implementation of it called [KenLM](https://kheafield.com/code/kenlm/) gave state of the art results.\n",
    "\n",
    "### From words to characters\n",
    "\n",
    "In this lab we have considered language modeling as the task of predicting a **word** $w_n$ based on a history of **words** $w_1\\cdots w_n$. What if instead we let our basic units of modelling be **characters**? The task then becomes to model $p(c_k\\mid c_{k-N-1}\\dots c_{k-1})$ where each $c_i$ is now an ASCII character instead of an entire word.\n",
    "\n",
    "Suddenly sparsity of data is no longer a problem! The set of characters to use is tiny (< 100) compared to even a small-sized vocabulary as today. Have a look at this very illustrative notebook written by Yoav Golberg to see such a method in action: [The unreasonable effectiveness of Character-level Language Models](http://nbviewer.jupyter.org/gist/yoavg/d76121dfde2618422139).\n",
    "\n",
    "(So what is the downside?)\n",
    "\n",
    "\n",
    "### Neural language models\n",
    "\n",
    "The above notebook was actually written as a response to this blog post by Andrej Karpathy: [The Unreasonable Effectiveness of Recurrent Neural Networks](http://karpathy.github.io/2015/05/21/rnn-effectiveness/). Go ahead and read it if you haven't already: it is a superb introduction to the topic of Recurrent Neural Networks.\n",
    "\n",
    "Neural language models solve the problem of data sparsity in a different manner. Instead of estimating the probabilities $p(w_k\\mid w_{k-N-1}\\dots w_{k-1})$ by counting occurences in the data, they use a neural network $f_{\\theta}$ parametrized by parameters $\\theta$ to predict this probability. The parameters $\\theta$ are learned through optimization. \n",
    "\n",
    "The simplest approach goes like this: each word in the history $w_{k-N-1}\\dots w_{k-1}$ is embedded separately giving  vectors $e_{k-N-1}\\dots e_{k-1}$ and then concatenated into one long vectors $[e_{k-N-1};\\dots ;e_{k-1}]$. The network then uses this history vector to predict a probability distribution over words $w$ in the vocabulary $V$:\n",
    "\n",
    "$$p(w \\mid w_{k-N-1}\\dots w_{k-1}) = f_{\\theta}([e_{k-N-1};\\dots;e_{k-1}]).$$\n",
    "\n",
    "(In order to produce legitimate probabilities the final layer of such a network will be for example a $softmax$.)\n",
    "\n",
    "This provides a solution to the sparsity problem by having the network let the individual embeddings of the words in the history interact through its non-linear transforamtion. We are letting the network figure out the smoothing itself!\n",
    "\n",
    "RNNs are a clever extension of this idea, where a hidden state vector $h$ is re-used and updated at each step $k$ in order to store the information of the entire history up to step $k-1$. That is, an RNN actually does away with the N-order approximation; it tries to model the full conditional directly! That means that\n",
    "\n",
    "$$p(w \\mid w_1\\dots w_{k-1}) \\approx RNN_{\\theta}([e_{k-1};h_{k-1}])$$\n",
    "\n",
    "where the hidden state $h_{k-1}$ is a compression of the *entire history* $w_1\\dots w_{k-1}$.\n",
    "\n",
    "Another great place to learn about RNNs, their problems, and solutions to those, is on the blog of [Christopher Olah](http://colah.github.io/posts/2015-08-Understanding-LSTMs/). The project on language modelling will involve learning more about these methods. \n",
    "\n",
    "-----------\n",
    "(And now, it's time to read the classic essay by Eugene Wigner that gave both of the posts their title: [The Unreasonable Effectiveness of Mathematics in the Natural Sciences](http://www.dartmouth.edu/~matc/MathDrama/reading/Wigner.html))"
   ]
  }
 ],
 "metadata": {
  "anaconda-cloud": {},
  "kernelspec": {
   "display_name": "Python 3",
   "language": "python",
   "name": "python3"
  },
  "language_info": {
   "codemirror_mode": {
    "name": "ipython",
    "version": 3
   },
   "file_extension": ".py",
   "mimetype": "text/x-python",
   "name": "python",
   "nbconvert_exporter": "python",
   "pygments_lexer": "ipython3",
   "version": "3.5.2"
  }
 },
 "nbformat": 4,
 "nbformat_minor": 1
}
