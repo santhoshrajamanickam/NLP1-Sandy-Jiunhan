{
 "cells": [
  {
   "cell_type": "code",
   "execution_count": 178,
   "metadata": {},
   "outputs": [],
   "source": [
    "%matplotlib inline\n",
    "import matplotlib\n",
    "import numpy as np\n",
    "import matplotlib.pyplot as plt\n",
    "from itertools import combinations"
   ]
  },
  {
   "cell_type": "markdown",
   "metadata": {},
   "source": [
    "# Lab 1: Text Corpora and Language Modelling\n",
    "\n",
    "This lab is meant to help you get familiar with some language data, and use this data to estimate N-gram language models\n",
    "\n",
    "First you will use the **Penn Treebank**, which is a collection of newspaper articles from the newspaper \n",
    "The Wall Street Journal. The idea is to examine the data and notice interesting properties. This will not take more than a few lines of code.\n",
    "\n",
    "Then you will use a corpus consisting of **TedX** talks. This you will use to estimate an **N-gram language model** for different orders of N, and use this this for some tasks.\n",
    "\n",
    "The datasets are on blackboard under course materials. Download the zip and make sure to put the files in the same directory as the notebook.\n",
    "\n",
    "### Rules\n",
    "* The lab exercises should be made in **groups of two people**.\n",
    "\n",
    "* The deadline is **Tuesday 7 nov 16:59**.\n",
    "\n",
    "* The assignment should submitted to **Blackboard** as `.ipynb`. Only **one submission per group**.\n",
    "\n",
    "* The **filename** should be `lab1_lastname1_lastname2.ipynb`, so for example `lab1_Jurafsky_Martin.ipynb`.\n",
    "\n",
    "* The notebook is graded on a scale of **0-10**. The number of points for each question is indicated in parantheses. \n",
    "\n",
    "* The questions marked **optional** are not graded; they are an additional challenge for those interested in going the extra mile. \n",
    "\n",
    "Notes on implementation:\n",
    "\n",
    "* You should **write your code and answers in this iPython Notebook** (see http://ipython.org/notebook.html for reference material). If you have problems, please contact your teaching assistant.\n",
    "\n",
    "* Use only **one cell for code** and **one cell for markdown** answers!    \n",
    "\n",
    "    * Put all code in the cell with the `# YOUR CODE HERE` comment.\n",
    "    \n",
    "    * For theoretical question, put your solution in the YOUR ANSWER HERE cell.\n",
    "    \n",
    "* Test your code and **make sure we can run your notebook**"
   ]
  },
  {
   "cell_type": "markdown",
   "metadata": {},
   "source": [
    "# 1. Penn treebank\n",
    "\n",
    "## Exercise 1.1 (40 points, 5 points per subquestion )\n",
    "\n",
    "You are provided with a corpus containing words with their Part-of-Speech tags (POS-tags for short). The format is\n",
    "**word|POS** (one sentence per line) and the file name is **sec02-22.gold.tagged**. This data is extracted from Sections 02-22 from the Penn Treebank: these sections are most commonly used for training statistical models like POS-taggers and parsers.\n",
    "\n",
    "**[Hint]** **Figure 10.1** in chapter 10 of Jurafsky and Martin (see [here](https://web.stanford.edu/~jurafsky/slp3/10.pdf)) holds a summary of the 45 POS-tags used in the Penn Treebank tagset together with their meaning and some examples. (If you are keen on learning more about the word-classes represented POS-tags and their definitions you can do a litle reading ahead for next week and already have a look at section 10.1 of the same chapter).\n",
    "\n",
    "**[Hint]** the Python library [collections](https://docs.python.org/2/library/collections.html) has an object called `Counter` which will come in handy for this exercise."
   ]
  },
  {
   "cell_type": "markdown",
   "metadata": {},
   "source": [
    " "
   ]
  },
  {
   "cell_type": "markdown",
   "metadata": {},
   "source": [
    "**(a)** How large is the corpus? (i.e. how **many tokens**). And what is the size of the **vocabulary** used in this corpus? \n",
    "\n",
    "Estimate the vocabulary size both by **lowercasing** all the words as well as by leaving the words in their **original orthography**. What is an advantage of lowercasing all the words in your corpus? What is a notable downside? **Give examples.**"
   ]
  },
  {
   "cell_type": "code",
   "execution_count": 179,
   "metadata": {},
   "outputs": [
    {
     "name": "stdout",
     "output_type": "stream",
     "text": [
      "Corpus size: 929552\n",
      "Vocabulary Size: 44210\n",
      "Lowercase Vocabulary Size: 39384\n"
     ]
    }
   ],
   "source": [
    "import re\n",
    "from collections import Counter\n",
    "\n",
    "vocabulary = Counter()\n",
    "lowercase_vocabulary = Counter()\n",
    "\n",
    "corpus = open('sec02-21.gold.tagged').read()\n",
    "lowercase_corpus = corpus.lower()\n",
    "\n",
    "pattern = r'\\s*([^|]+)([|]+)([^|\\ ]+)\\s*'\n",
    "\n",
    "regex = re.compile(pattern)\n",
    "\n",
    "for match in regex.finditer(corpus):\n",
    "    vocabulary[match.group(1)] += 1\n",
    "    \n",
    "for match in regex.finditer(lowercase_corpus):\n",
    "    lowercase_vocabulary[match.group(1)] += 1\n",
    "\n",
    "print(\"Corpus size: {}\".format(len(regex.findall(corpus))))\n",
    "print(\"Vocabulary Size: {}\".format(len(vocabulary)))\n",
    "print(\"Lowercase Vocabulary Size: {}\".format(len(lowercase_vocabulary)))\n"
   ]
  },
  {
   "cell_type": "markdown",
   "metadata": {},
   "source": [
    "Answer:\n",
    "\n",
    "By lowercasing all the words, we can reduce our data size. But words have different meaning between they are at start position(uppercase) and in the middle of sentence(lowercase). Take 'what' as example, when 'what' at the begining of sentence, it could be used for creating an interrogative sentence. But when 'what' is in the middle of sentence, 'what' represents as relative pronoun. If we lowercase all words in the corpus, we will eliminate the dependency between the meaning of words and the position of words in a sentence."
   ]
  },
  {
   "cell_type": "markdown",
   "metadata": {},
   "source": [
    "------\n",
    "For the rest of this exercise you should use the **original orthography** of the data when answering the questions.\n",
    "\n",
    "------\n"
   ]
  },
  {
   "cell_type": "markdown",
   "metadata": {},
   "source": [
    "**(b)** Plot a graph of word frequency versus rank of a word, in this corpus. Does this corpus obey **Zipf’s law**?"
   ]
  },
  {
   "cell_type": "code",
   "execution_count": 180,
   "metadata": {
    "scrolled": true
   },
   "outputs": [
    {
     "data": {
      "text/plain": [
       "[<matplotlib.lines.Line2D at 0x1137da0f0>]"
      ]
     },
     "execution_count": 180,
     "metadata": {},
     "output_type": "execute_result"
    },
    {
     "data": {
      "image/png": "[encoded data removed]",
      "text/plain": [
       "<matplotlib.figure.Figure at 0x113503eb8>"
      ]
     },
     "metadata": {},
     "output_type": "display_data"
    }
   ],
   "source": [
    "ordered_words = vocabulary.most_common(10000)\n",
    "frequency = [int(word[1]) for word in ordered_words]\n",
    "plt.xscale('log')\n",
    "plt.yscale('log')\n",
    "plt.xlabel('rank')\n",
    "plt.ylabel('frequency')\n",
    "plt.title('Examination of Zipf\\'s law')\n",
    "plt.plot(frequency)"
   ]
  },
  {
   "cell_type": "markdown",
   "metadata": {},
   "source": [
    "Answer: \n",
    "Yes it does.\n",
    "\n",
    "\n",
    "**(c)** What are the **20 most common words** in the corpus and how often do they occur? What is the 50th most common word, the 100th and the 1000th and how often do they occur?"
   ]
  },
  {
   "cell_type": "code",
   "execution_count": 181,
   "metadata": {},
   "outputs": [
    {
     "name": "stdout",
     "output_type": "stream",
     "text": [
      "The 20 most common words with their number of occurence: \n",
      " [(',', 48310), ('the', 40839), ('.', 38798), ('of', 22782), ('to', 22056), ('a', 19171), ('and', 15906), ('in', 15085), (\"'s\", 9249), ('that', 7951), ('for', 7912), ('$', 7125), ('is', 6893), ('The', 6791), ('said', 5597), ('on', 5112), ('%', 4871), ('it', 4639), ('by', 4450), ('from', 4437)]\n",
      "The 50th most common word is \"had\" occuring 1755 times.\n",
      "The 100th most common word is \"A\" occuring 1755 times.\n",
      "The 1000th most common word is \"man\" occuring 1755 times.\n"
     ]
    }
   ],
   "source": [
    "print(\"The 20 most common words with their number of occurence: \\n {}\".format(vocabulary.most_common(20)))\n",
    "print(\"The 50th most common word is \\\"{}\\\" occuring {} times.\".format(vocabulary.most_common(50)[49][0], vocabulary.most_common(50)[49][1]))\n",
    "print(\"The 100th most common word is \\\"{}\\\" occuring {} times.\".format(vocabulary.most_common(100)[99][0], vocabulary.most_common(50)[49][1]))\n",
    "print(\"The 1000th most common word is \\\"{}\\\" occuring {} times.\".format(vocabulary.most_common(1000)[999][0], vocabulary.most_common(50)[49][1]))"
   ]
  },
  {
   "cell_type": "markdown",
   "metadata": {},
   "source": [
    "**(d)** How many different Part-of-speech tags are present in the corpus?"
   ]
  },
  {
   "cell_type": "code",
   "execution_count": 182,
   "metadata": {
    "scrolled": true
   },
   "outputs": [
    {
     "name": "stdout",
     "output_type": "stream",
     "text": [
      "There are 48 different POS tags\n"
     ]
    }
   ],
   "source": [
    "POS_tags = Counter()\n",
    "\n",
    "for match in regex.finditer(corpus):\n",
    "    POS_tags[match.group(3)] += 1\n",
    "\n",
    "print(\"There are {} different POS tags\".format(len(POS_tags)))\n"
   ]
  },
  {
   "cell_type": "markdown",
   "metadata": {},
   "source": [
    "**(e)** Print a list of the **10 most commonly occurring POS tags** in the data. For each of these POS tags, what are the **3 most common words** that belong to that class?"
   ]
  },
  {
   "cell_type": "code",
   "execution_count": 183,
   "metadata": {},
   "outputs": [
    {
     "name": "stdout",
     "output_type": "stream",
     "text": [
      "The 10 most common POS tags: ['NN', 'IN', 'NNP', 'DT', 'JJ', 'NNS', ',', '.', 'CD', 'RB']\n",
      "3 most common words in each of the above tags: \n",
      "NN tag: [('%', 4866), ('company', 2457), ('year', 2220)]\n",
      "IN tag: [('of', 22778), ('in', 14852), ('for', 7907)]\n",
      "NNP tag: [('Mr.', 4147), ('U.S.', 1577), ('Corp.', 1186)]\n",
      "DT tag: [('the', 40831), ('a', 19151), ('The', 6753)]\n",
      "JJ tag: [('new', 1396), ('other', 1298), ('last', 990)]\n",
      "NNS tag: [('years', 1164), ('shares', 1128), ('sales', 939)]\n",
      ", tag: [(',', 48310), ('an', 1), ('2', 1)]\n",
      ". tag: [(',', 48310), ('.', 38798), ('$', 7125)]\n",
      "CD tag: [('million', 4355), ('billion', 1780), ('one', 1203)]\n",
      "RB tag: [(\"n't\", 3211), ('also', 1420), ('not', 1287)]\n"
     ]
    }
   ],
   "source": [
    "common_POS = [str(word[0]) for word in POS_tags.most_common(10)]\n",
    "\n",
    "print(\"The 10 most common POS tags: {}\".format(common_POS))\n",
    "\n",
    "print(\"3 most common words in each of the above tags: \")\n",
    "for POS in common_POS:\n",
    "    POS_counter = Counter()\n",
    "    pattern = r'\\s*([^| ]+)([|]+)'+POS+'\\s+'\n",
    "    regex = re.compile(pattern)\n",
    "    \n",
    "    for match in regex.finditer(corpus):\n",
    "        POS_counter[match.group(1)] += 1\n",
    "        \n",
    "    print(\"{} tag: {}\".format(POS, POS_counter.most_common(3)))"
   ]
  },
  {
   "cell_type": "markdown",
   "metadata": {},
   "source": [
    "**(f)** A single word may have several POS-tags. For example, *record* can be a both a **noun** *(buy a record)* or a **verb** *(record a lecture)*. This make POS-tags extremely useful for **disambiguation**.\n",
    "\n",
    "What percentage of the words in the vocabulary is **ambiguous**? (i.e. have more than one POS tag?) What are the 10 most frequent combinations of POS tags in the case of ambitguity? Which words are **most ambiguous**? Give some of them."
   ]
  },
  {
   "cell_type": "code",
   "execution_count": 184,
   "metadata": {
    "scrolled": true
   },
   "outputs": [
    {
     "name": "stdout",
     "output_type": "stream",
     "text": [
      "The percentage of ambiguous words is: 13.469803211942999%\n",
      "Top 10 most frequent combinations of POS tags in the case of ambitguity: \n",
      " [(('VBD', 'VBN'), 1060), (('NN', 'JJ'), 891), (('VBP', 'VB'), 654), (('NN', 'NNP'), 626), (('NN', 'VB'), 596), (('JJ', 'VBN'), 452), (('NN', 'VBG'), 378), (('VBZ', 'NNS'), 364), (('JJ', 'NNP'), 292), (('NN', 'VBP'), 290)]\n",
      "Top 10 ambiguous words are: \n",
      " [('set', 7), ('many', 7), ('open', 7), ('down', 7), ('in', 6), ('that', 6), ('own', 6), ('cut', 6), ('point', 6), ('left', 6)]\n"
     ]
    }
   ],
   "source": [
    "pattern = r'\\s*([^|]+)([|]+)([^|\\ ]+)\\s*'\n",
    "\n",
    "regex = re.compile(pattern)\n",
    "word_dict = {}\n",
    "ambiguous_words = set()\n",
    "ambiguous_words_tags = set()\n",
    "pair_counter = Counter()\n",
    "ambiguous_words_counter = Counter()\n",
    "\n",
    "for match in regex.finditer(corpus):\n",
    "    key = match.group(1)\n",
    "    word_dict.setdefault(key , set())\n",
    "    word_dict[key].add(match.group(3))\n",
    "    \n",
    "for key, value in word_dict.items():\n",
    "    if len(value) > 1:\n",
    "        ambiguous_words.add(key)\n",
    "        ambiguous_words_tags = ambiguous_words_tags.union(value)\n",
    "        combos = combinations(value, 2)\n",
    "        pair_counter += Counter(combos)\n",
    "        ambiguous_words_counter[key] = len(value)\n",
    "\n",
    "print(\"The percentage of ambiguous words is: {}%\".format(((len(ambiguous_words)/len(word_dict))*100)))\n",
    "print(\"Top 10 most frequent combinations of POS tags in the case of ambitguity: \\n {}\".format(pair_counter.most_common(10)))\n",
    "print(\"Top 10 ambiguous words are: \\n {}\".format(ambiguous_words_counter.most_common(10)))\n"
   ]
  },
  {
   "cell_type": "markdown",
   "metadata": {},
   "source": [
    "**(g)**  Print some of these words with their multiple POS-tags. Do you **understand the ambiguity**? Use figure 10.1 mentioned above to interpret the POS-tags."
   ]
  },
  {
   "cell_type": "code",
   "execution_count": 185,
   "metadata": {},
   "outputs": [
    {
     "name": "stdout",
     "output_type": "stream",
     "text": [
      "The word \"set\" has following POS tags: {'NN', 'VBD', 'VB', 'VBN', 'JJ', 'VBZ', 'VBP'}\n",
      "The word \"many\" has following POS tags: {'NN', 'PDT', 'DT', 'NP', 'JJ', 'VB', 'RB'}\n",
      "The word \"open\" has following POS tags: {'NN', 'RP', 'JJ', 'VB', 'VBZ', 'VBP', 'RB'}\n"
     ]
    }
   ],
   "source": [
    "for key, value in ambiguous_words_counter.most_common(3):\n",
    "    print(\"The word \\\"{}\\\" has following POS tags: {}\".format(key,word_dict[key]))"
   ]
  },
  {
   "cell_type": "markdown",
   "metadata": {},
   "source": [
    "Some examples of ambguity are explained below: \n",
    "\n",
    "planned:\n",
    "\n",
    "JJ: planned can be adjective. e.g. planned economy\n",
    "\n",
    "VBN: planned can be verb, past participle. e.g. I have planned to visit Germany in Christmas vacation.\n",
    "\n",
    "VB: planned can be verb, base form. e.g. We plan to have lunch at UvA.\n",
    "\n",
    "\n",
    "around:\n",
    "\n",
    "RB: around can be adverb. He entered the room and looked around.\n",
    "\n",
    "IN: around can be preposition. Students gathered around teachers.\n",
    "\n",
    "RP: around can be particle. Government danced around the most important issue.\n",
    "\n",
    "\n",
    "complicated:\n",
    "\n",
    "JJ: complicated can be adjective. e.g. It's complicated\n",
    "\n",
    "VBN: complicated can be verb, past participle. e.g. Politics have complicated the situation.\n",
    "\n",
    "VBD: complicated can be verb, past tense. e.g. The fluctuation of temprature was complicated by global warming."
   ]
  },
  {
   "cell_type": "markdown",
   "metadata": {},
   "source": [
    "**(h)** Ambiguous words do not account for a great percentage of the vocabulary. Yet they are among the most commonly occuring words of the English language. What **percentage of the dataset is ambiguous**?"
   ]
  },
  {
   "cell_type": "code",
   "execution_count": 186,
   "metadata": {},
   "outputs": [
    {
     "name": "stdout",
     "output_type": "stream",
     "text": [
      "55.079005800643756% of the dataset is ambiguous\n"
     ]
    }
   ],
   "source": [
    "no_ambiguous_corpus = 0\n",
    "\n",
    "pattern = r'\\s*([^|]+)([|]+)([^|\\ ]+)\\s*'\n",
    "regex = re.compile(pattern)\n",
    "\n",
    "for match in regex.finditer(corpus):\n",
    "    if match.group(1) in ambiguous_words:\n",
    "        no_ambiguous_corpus += 1\n",
    "        \n",
    "print(\"{}% of the dataset is ambiguous\".format((no_ambiguous_corpus/len(regex.findall(corpus)))*100))\n",
    "    "
   ]
  },
  {
   "cell_type": "markdown",
   "metadata": {},
   "source": [
    "## Exercise 1.2 (10 points, 5 per subquestion)"
   ]
  },
  {
   "cell_type": "markdown",
   "metadata": {},
   "source": [
    "You are also provided with another file called **sec00.gold.tagged**. \n",
    "Section 00 of the Penn Treebank is typically used as development data."
   ]
  },
  {
   "cell_type": "markdown",
   "metadata": {},
   "source": [
    "**(a)** How many **unseen words** are present in the development data (i.e., words that have not occurred in the training data)?"
   ]
  },
  {
   "cell_type": "code",
   "execution_count": 187,
   "metadata": {
    "scrolled": false
   },
   "outputs": [
    {
     "name": "stdout",
     "output_type": "stream",
     "text": [
      "Number of unseen words in the development data: 1288\n"
     ]
    }
   ],
   "source": [
    "no_unseen = 0\n",
    "dev_word_dict = {}\n",
    "unseen_words = set()\n",
    "\n",
    "development_corpus = open('sec00.gold.tagged').read()\n",
    "pattern = r'\\s*([^|]+)([|]+)([^|\\ ]+)\\s*'\n",
    "\n",
    "regex = re.compile(pattern)\n",
    "\n",
    "for match in regex.finditer(development_corpus):\n",
    "    key = match.group(1)\n",
    "    dev_word_dict.setdefault(key , set())\n",
    "    dev_word_dict[key].add(match.group(3))\n",
    "    \n",
    "for key, value in dev_word_dict.items():\n",
    "    if  key not in word_dict.keys():\n",
    "        unseen_words.add(key)\n",
    "        \n",
    "print(\"Number of unseen words in the development data: {}\".format(len(unseen_words)))\n",
    "        "
   ]
  },
  {
   "cell_type": "markdown",
   "metadata": {},
   "source": [
    "**(b)** What are the three **POS tag categories** that the most **unseen words** belong to?"
   ]
  },
  {
   "cell_type": "code",
   "execution_count": 188,
   "metadata": {
    "scrolled": true
   },
   "outputs": [
    {
     "name": "stdout",
     "output_type": "stream",
     "text": [
      "The 3 most common POS categories among the unseen words are: [('NNP', 489), ('JJ', 236), ('NN', 175)]\n"
     ]
    }
   ],
   "source": [
    "dev_POS_counter = Counter()\n",
    "\n",
    "for key, value in dev_word_dict.items():\n",
    "    if  key in unseen_words:\n",
    "        for POS in value:\n",
    "            dev_POS_counter[POS] +=1\n",
    "\n",
    "print(\"The 3 most common POS categories among the unseen words are: {}\".format(dev_POS_counter.most_common(3)))\n",
    "    "
   ]
  },
  {
   "cell_type": "markdown",
   "metadata": {},
   "source": [
    "# 2. Language Models\n",
    "\n",
    "This part of the lab will be covered in the Wednesday lecture. If you have prior exposure to NLP, go ahead and finish this part! If you don't, start anyway, and this part will be clear after the lecture. \n",
    "\n",
    "Reference **chapter 4** of J&M *Language Modeling with N-Grams*. \n",
    "\n",
    "----------\n",
    "\n",
    "Models that assign **probabilities** to **sequences of words** are called language **language\n",
    "modelels** or **LMs**. The simplest model that assigns probabilities to sentences and sequences of words is the **N-gram** model.\n",
    "\n",
    "Recall that an *N*-gram language model uses **conditional probabilities** of the form\n",
    "    \n",
    "$$P(w_k \\mid w_{k-N+1} \\dots w_{k-1})$$\n",
    "\n",
    "to **approximate** the full **joint probability**\n",
    "\n",
    "$$P(w_1 \\dots w_n)$$\n",
    "\n",
    "of a sequence of words $w_1 \\dots w_n$.\n",
    "\n",
    "The easiest way of obtaining estimates for the probabilities $P(w_k \\mid w_{k-N+1} \\dots w_{k-1})$ is to use the **maximum likelihood estimate** or **MLE**, a widely used statistical estimation method ([read more]((https://en.wikipedia.org/wiki/Maximum_likelihood_estimation)). You count and normalize:\n",
    "\n",
    "$$P_{MLE}(w_k \\mid w_{k-N+1} \\dots w_{k-1}) = \\frac{C(w_{k-N+1} \\dots w_{k-1} w_k)}{C(w_{k-N+1} \\dots w_{k-1})}.$$\n",
    "\n",
    "\n",
    "## Exercise 2.1 (25 points)\n",
    "\n",
    "**(a) ** Complete the function `train_ngram` so that you can train a count-based $N$-gram language model on the data found in `data/ted-train.txt` and train this for $N=2,3,4$. **15 points**\n",
    "\n",
    "**(b) ** Extend the function above so that it accepts a parameter `k` for optional add-$k$ smoothing. **10 points**\n",
    "\n",
    "**[Datastructure hint]** If you store the smoothed language in a naive manner (that is, to store *all* the numbers separately) your datastructure will get huge! If $V$ is the vocabulary then the smoothed bigram model assigns probabilities to $|V|^2$ entries. If $|V|$ is around 80k, the naive way requires you to store more than 64 billion floats. Yet almost all of these are actually just $P(w_n|w_{n-1}) = \\frac{k}{N + k|V|}$, with $k$ the value with which you smooth and $N=C(w_{n-1})$. Think about how you use this fact to make your model work in practice."
   ]
  },
  {
   "cell_type": "markdown",
   "metadata": {},
   "source": [
    "**[Python hint]** The `collections` library has another useful datastructure: the `defaultdict`. Some example uses:"
   ]
  },
  {
   "cell_type": "code",
   "execution_count": 189,
   "metadata": {},
   "outputs": [
    {
     "data": {
      "text/plain": [
       "0.0"
      ]
     },
     "execution_count": 189,
     "metadata": {},
     "output_type": "execute_result"
    }
   ],
   "source": [
    "from collections import defaultdict\n",
    "\n",
    "d = defaultdict(float)\n",
    "d[\"new key\"]"
   ]
  },
  {
   "cell_type": "markdown",
   "metadata": {},
   "source": [
    "Compare that to an ordinary dictionary:"
   ]
  },
  {
   "cell_type": "code",
   "execution_count": 190,
   "metadata": {},
   "outputs": [],
   "source": [
    "d = dict()\n",
    "#d[\"new key\"]"
   ]
  },
  {
   "cell_type": "markdown",
   "metadata": {},
   "source": [
    "Other datatypes as `default_factory`:"
   ]
  },
  {
   "cell_type": "code",
   "execution_count": 191,
   "metadata": {},
   "outputs": [
    {
     "data": {
      "text/plain": [
       "0"
      ]
     },
     "execution_count": 191,
     "metadata": {},
     "output_type": "execute_result"
    }
   ],
   "source": [
    "d = defaultdict(int)\n",
    "d[\"new key\"]"
   ]
  },
  {
   "cell_type": "code",
   "execution_count": 192,
   "metadata": {},
   "outputs": [
    {
     "data": {
      "text/plain": [
       "[]"
      ]
     },
     "execution_count": 192,
     "metadata": {},
     "output_type": "execute_result"
    }
   ],
   "source": [
    "d = defaultdict(list)\n",
    "d[\"new key\"]"
   ]
  },
  {
   "cell_type": "markdown",
   "metadata": {},
   "source": [
    "Converting an already existing `dict`:"
   ]
  },
  {
   "cell_type": "code",
   "execution_count": 193,
   "metadata": {},
   "outputs": [
    {
     "name": "stdout",
     "output_type": "stream",
     "text": [
      "value\n",
      "0.0\n"
     ]
    }
   ],
   "source": [
    "d1 = {k: \"value\" for k in range(1, 11)}\n",
    "d = defaultdict(float, d1) # convert it to a defaultdict\n",
    "print(d[5])\n",
    "print(d[100])"
   ]
  },
  {
   "cell_type": "markdown",
   "metadata": {},
   "source": [
    "This doesn't work:"
   ]
  },
  {
   "cell_type": "code",
   "execution_count": 194,
   "metadata": {},
   "outputs": [],
   "source": [
    "#d = defaultdict(10)"
   ]
  },
  {
   "cell_type": "markdown",
   "metadata": {},
   "source": [
    "Use a `lambda` to make the number `10` `callable`\":"
   ]
  },
  {
   "cell_type": "code",
   "execution_count": 195,
   "metadata": {},
   "outputs": [
    {
     "data": {
      "text/plain": [
       "10"
      ]
     },
     "execution_count": 195,
     "metadata": {},
     "output_type": "execute_result"
    }
   ],
   "source": [
    "d = defaultdict(lambda: 10)\n",
    "d[\"new key\"]"
   ]
  },
  {
   "cell_type": "code",
   "execution_count": 196,
   "metadata": {},
   "outputs": [
    {
     "data": {
      "text/plain": [
       "defaultdict(float, {})"
      ]
     },
     "execution_count": 196,
     "metadata": {},
     "output_type": "execute_result"
    }
   ],
   "source": [
    "d = defaultdict(lambda: defaultdict(float))\n",
    "d[\"new key\"]"
   ]
  },
  {
   "cell_type": "markdown",
   "metadata": {},
   "source": [
    "Clever use of a `defaultdict` can be the solution to the problem of data-storing in a smoothing $N$-gram pointed out above:\n",
    "    \n",
    "    ngram = defaultdict(lambda: k/(N+kV), ngram)"
   ]
  },
  {
   "cell_type": "markdown",
   "metadata": {},
   "source": [
    "The following function is given:"
   ]
  },
  {
   "cell_type": "code",
   "execution_count": 197,
   "metadata": {},
   "outputs": [],
   "source": [
    "train_file = \"ted-train.txt\"\n",
    "\n",
    "def read(fname, max_lines=np.inf):\n",
    "    \"\"\"\n",
    "    Reads in the data in fname and returns it as\n",
    "    one long list of words. Also returns a vocabulary in\n",
    "    the form of a word2index and index2word dictionary.\n",
    "    \"\"\"\n",
    "    data = []\n",
    "    # w2i will automatically keep a counter to asign to new words\n",
    "    w2i = defaultdict(lambda: len(w2i))\n",
    "    i2w = dict()\n",
    "    start = \"<s>\"\n",
    "    end = \"</s>\"\n",
    "    \n",
    "    with open(fname, \"r\") as fh:\n",
    "        for k, line in enumerate(fh):\n",
    "            if k > max_lines:\n",
    "                break\n",
    "            words = line.strip().split()\n",
    "            # assign an index to each word\n",
    "            for w in words:\n",
    "                i2w[w2i[w]] = w # trick\n",
    "            \n",
    "            sent = [start] + words + [end]\n",
    "            data.append(sent)\n",
    "\n",
    "    return data, w2i, i2w"
   ]
  },
  {
   "cell_type": "code",
   "execution_count": 199,
   "metadata": {},
   "outputs": [],
   "source": [
    "def train_ngram(data, N, k=0):\n",
    "    \"\"\"\n",
    "    Trains an n-gram language model with optional add-k smoothing\n",
    "    and additionaly returns the unigram model\n",
    "    \n",
    "    :param data: text-data as returned by read\n",
    "    :param N: (N>1) the order of the ngram e.g. N=2 gives a bigram\n",
    "    :param k: optional add-k smoothing\n",
    "    :returns: ngram and unigram\n",
    "    \"\"\"          \n",
    "    data_copy = data.copy()    \n",
    "    ngram = defaultdict(Counter) # ngram[history][word] = #(history,word)\n",
    "    \n",
    "    if N - 2 > 0:\n",
    "        for sent_idx, sent in enumerate(data_copy):\n",
    "            for i in range(0, N-2):\n",
    "                data_copy[sent_idx] = [\"<s>\"] + data_copy[sent_idx]    \n",
    "    unpacked_data = [word for sent in data_copy for word in sent]\n",
    "    unigram = defaultdict(float, Counter(unpacked_data)) # default prob is 0.0 \n",
    "    \n",
    "    V = len(unigram)\n",
    "    num_of_word_tokens = len(unpacked_data)\n",
    "    \n",
    "    for i in range(N-1, len(unpacked_data)):   \n",
    "        context = tuple(unpacked_data[i - N + 1:i])\n",
    "        ngram[context][unpacked_data[i]] += 1\n",
    "        \n",
    "    for context, count in ngram.items():\n",
    "        total = sum(count.values())\n",
    "        for word in count:\n",
    "            count[word] += k\n",
    "            count[word] /= float(total+k*V)\n",
    "        \n",
    "        ngram[context] = defaultdict(lambda total=total, k=k, V=V: k/float(total+k*V), ngram[context])\n",
    "                    \n",
    "    for context, count in unigram.items():\n",
    "        unigram[context] += k\n",
    "        unigram[context] /= float(num_of_word_tokens + k*V)\n",
    "        \n",
    "    unigram = defaultdict(lambda num_of_word_tokens=num_of_word_tokens, k=k, V=V: k/float(num_of_word_tokens+k*V), unigram)\n",
    "    return ngram, unigram\n",
    "\n",
    "data, w2i, i2w = read(train_file)\n",
    "bigram, unigram = train_ngram(data, N=3, k=0)\n",
    "bigram_smoothed, unigram_smoothed = train_ngram(data, N=2, k=1)"
   ]
  },
  {
   "cell_type": "code",
   "execution_count": 202,
   "metadata": {},
   "outputs": [
    {
     "name": "stdout",
     "output_type": "stream",
     "text": [
      "0.9999790417906672\n"
     ]
    }
   ],
   "source": [
    "default_prob = bigram_smoothed[(\"all\", )][\"all\"] # \"all all\" does not occur => equals k / (N + kV)\n",
    "d = bigram_smoothed[(\"all\", )]                    # the smoothed conditional distribution p(w|\"all\")\n",
    "s = sum(d.values())                       # total probability mass actually stored in d (< 1.0)\n",
    "seen = len(d.keys())                      # number of actual words stored in d\n",
    "unseen = len(w2i) - seen                  # all other words\n",
    "remaining_prob = default_prob * unseen    # all remaining probability mass not actually stored in d\n",
    "one = s + remaining_prob                  # should equal 1.0\n",
    "print(one)"
   ]
  },
  {
   "cell_type": "code",
   "execution_count": 203,
   "metadata": {},
   "outputs": [],
   "source": [
    "trigram, unigram = train_ngram(data, N=3, k=0)\n",
    "quadgram, unigram = train_ngram(data, N=4, k=0)"
   ]
  },
  {
   "cell_type": "markdown",
   "metadata": {},
   "source": [
    "# Exercise 2.2 (5 points)\n",
    "\n",
    "You can use an *N*-gram language model to **generate text**. The higher the order *N* the better your model will be able to catch the long-range dependecies that occur in actual sentences and the better your changes are at generating sensible text. But beware: **sparsity** of language data will quickly cause your model to reproduce entire lines from your training data; in such cases only one $w_k$ was observed for the histories $w_{k-N+1}\\dots w_{k-1}$ in the entire training-set.\n",
    "\n",
    "**Complete** the function `generate_sent`. It takes a language model `lm` and an order `N` and should generate a sentence by **sampling** from the language model.\n",
    "\n",
    "**[Hint]** You can use the method of [inverse transform sampling](https://en.wikipedia.org/wiki/Inverse_transform_sampling) to generate a sample from a **categorical distribution**, $p_1\\dots p_k$ such that $p_i \\geq 0$ and $\\sum_{i=1}^k p_i = 1$, as follows:"
   ]
  },
  {
   "cell_type": "code",
   "execution_count": 204,
   "metadata": {},
   "outputs": [
    {
     "name": "stdout",
     "output_type": "stream",
     "text": [
      "1\n",
      "Counter({2: 528, 1: 199, 3: 187, None: 86})\n"
     ]
    }
   ],
   "source": [
    "from random import random\n",
    "\n",
    "P = [0.2,0.5,0.2,0.1]\n",
    "\n",
    "def sample(P):\n",
    "    u = random() # uniformly random number between 0 and 1\n",
    "    p = 0\n",
    "    for i, p_i in enumerate(P):\n",
    "        if p > u: \n",
    "            return i # the first i s.t. p1 + ... + pi > u\n",
    "        p += p_i\n",
    "        \n",
    "print(sample(P))\n",
    "\n",
    "print(Counter([sample(P) for i in range(1000)])) # check to see if the law of large numbers is still true"
   ]
  },
  {
   "cell_type": "markdown",
   "metadata": {},
   "source": [
    "Inverse transform sampling in the words of Jurafsky and Martin:\n",
    "\n",
    "> Imagine all the words of the English language covering the probability space\n",
    "between 0 and 1, each word covering an interval proportional to its frequency. We\n",
    "choose a random value between 0 and 1 and print the word whose interval includes\n",
    "this chosen value.\n",
    "\n",
    "(J&M, section 4.3)"
   ]
  },
  {
   "cell_type": "code",
   "execution_count": 214,
   "metadata": {},
   "outputs": [
    {
     "name": "stdout",
     "output_type": "stream",
     "text": [
      "Unigram generation: \n",
      "good When quality Silver good strengthen It it But double-check brought from same answers 'm Here good When correlate findings what \n",
      " Bigram generation: \n",
      "If she fits them OncoSearch . \n",
      " Trigram generation: \n",
      "Every foot of the diversity and incredible experiences . \n",
      " Quadgram generation: \n",
      "Social capital in the U . "
     ]
    }
   ],
   "source": [
    "def generate_sent(lm, N):\n",
    "    \n",
    "    sentence = []\n",
    "    if len(sentence) + 1 <= N - 1:\n",
    "        for n in range(len(sentence) + 1, N - 1 + 1):\n",
    "            sentence.append('<s>')                 \n",
    "        \n",
    "    ngram, unigram = train_ngram(data, N, 0)  \n",
    "        \n",
    "    count = 0\n",
    "    \n",
    "    new_word = ''\n",
    "    while new_word != '</s>':\n",
    "        count += 1\n",
    "        if count > 1000:\n",
    "            break\n",
    "        tuple_list = []\n",
    "        \n",
    "        start_j = len(sentence) - 1 - N + 2\n",
    "        end_j = len(sentence)\n",
    "        \n",
    "        if start_j < 0:\n",
    "            start_j = 0\n",
    "        if end_j < 0:\n",
    "            end_j = 0\n",
    "        \n",
    "        for j in range(start_j, end_j):\n",
    "            \n",
    "            tuple_list.append(sentence[j])\n",
    "        tuple_lm = tuple(tuple_list)\n",
    "        \n",
    "        s = sample(list(ngram[tuple_lm].values()))\n",
    "        if s is None:\n",
    "            s = 0\n",
    "            new_word = list(ngram[tuple_lm].keys())[s]\n",
    "        else:\n",
    "            new_word = list(ngram[tuple_lm].keys())[s]                \n",
    "        \n",
    "        if new_word == '</s>':\n",
    "            break\n",
    "        sentence.append(list(ngram[tuple_lm].keys())[s])\n",
    "        \n",
    "        \n",
    "    sentence = sentence[N - 1:]\n",
    "    \n",
    "    for word in sentence:\n",
    "        print(word, end=\" \")\n",
    "            \n",
    "\n",
    "lm = {}\n",
    "lm[1] = unigram\n",
    "lm[2] = bigram\n",
    "lm[3] = trigram\n",
    "lm[4] = quadgram\n",
    "\n",
    "print(\"Unigram generation: \")\n",
    "generate_sent(lm, 1)\n",
    "print(\"\\n Bigram generation: \")\n",
    "generate_sent(lm, 2)\n",
    "print(\"\\n Trigram generation: \")\n",
    "generate_sent(lm, 3)\n",
    "print(\"\\n Quadgram generation: \")\n",
    "generate_sent(lm, 4)"
   ]
  },
  {
   "cell_type": "markdown",
   "metadata": {},
   "source": [
    "### [Optional]\n",
    "\n",
    "For how many of the histories $w_{k-N+1}\\dots w_{k-1}$ is the number of continuations $w_n$ equal to **one**? Calculate the percentage of such cases for the different orders *N*.\n",
    "\n",
    "And which history has the **most possible continuations**?"
   ]
  },
  {
   "cell_type": "code",
   "execution_count": 219,
   "metadata": {},
   "outputs": [],
   "source": [
    "### ANSWER ###"
   ]
  },
  {
   "cell_type": "markdown",
   "metadata": {},
   "source": [
    "## Excercise 2.3 (5 points)\n",
    "\n",
    "Let $V$ denote our vocabulary. Recall that for any $w$ in $V$ `bigram[w]` defines a conditional probability $p(v|w)$ over $v$ in $V$. In the case of an **unsmoothed bigram**, $p(v|w) = 0$ for most $v\\in V$, whereas in the **smoothed bigram** smoothing took care that $p(v|w) \\geq 0$ for *all* $v$.\n",
    "\n",
    "The function `plot_bigram_dist(word, bigram, smoothbigram, k=30)` plots shows $p(v|word)$ for the `k` words $v$. One bar shows the probabilities in `bigram` and one in `smoothbigram`. \n",
    "\n",
    "**(a)** Use this function to plot the distribution for at least two words `w` and answer the questions\n",
    "* What is the effect of smoothing on the bigram distribution of frequent words? \n",
    "* What is the effect in the case of infrequent words?\n",
    "* Explain the difference between the two based on the raw counts of `w` \n",
    "\n",
    "**(b)** Now experiment with $k$ much smaller than 1 (but greater than 0!) \n",
    "* What are the effects?\n",
    "\n",
    "\n",
    "**[Hint]** Remember that add-1 smoothing turns \n",
    "$$P(w_n\\mid w_{n-1}) = \\frac{C(w_{n-1}w_{n})}{C(w_{n-1})}$$\n",
    "into\n",
    "$$P_{add-1}(w_n\\mid w_{n-1}) = \\frac{C(w_{n-1}w_{n}) + 1}{C(w_{n-1}) + |V|}.$$\n",
    "\n",
    "What happens when $C(w_{n-1})$ is relatively big (similiar in of size as $ |V| $)? And what if $C(w_{n-1})$ is small? "
   ]
  },
  {
   "cell_type": "code",
   "execution_count": 216,
   "metadata": {},
   "outputs": [],
   "source": []
  },
  {
   "cell_type": "code",
   "execution_count": 217,
   "metadata": {},
   "outputs": [],
   "source": []
  },
  {
   "cell_type": "code",
   "execution_count": 218,
   "metadata": {},
   "outputs": [
    {
     "ename": "ValueError",
     "evalue": "not enough values to unpack (expected 2, got 0)",
     "output_type": "error",
     "traceback": [
      "\u001b[0;31m---------------------------------------------------------------------------\u001b[0m",
      "\u001b[0;31mValueError\u001b[0m                                Traceback (most recent call last)",
      "\u001b[0;32m<ipython-input-218-57a7a3e4c472>\u001b[0m in \u001b[0;36m<module>\u001b[0;34m()\u001b[0m\n\u001b[1;32m      1\u001b[0m \u001b[0mword\u001b[0m \u001b[0;34m=\u001b[0m \u001b[0;34m(\u001b[0m\u001b[0;34m'the'\u001b[0m\u001b[0;34m,\u001b[0m \u001b[0;34m)\u001b[0m\u001b[0;34m\u001b[0m\u001b[0m\n\u001b[0;32m----> 2\u001b[0;31m \u001b[0mplot_bigram_dist\u001b[0m\u001b[0;34m(\u001b[0m\u001b[0mword\u001b[0m\u001b[0;34m,\u001b[0m \u001b[0mbigram\u001b[0m\u001b[0;34m,\u001b[0m \u001b[0mbigram_smoothed\u001b[0m\u001b[0;34m,\u001b[0m \u001b[0mk\u001b[0m\u001b[0;34m=\u001b[0m\u001b[0;36m5\u001b[0m\u001b[0;34m)\u001b[0m\u001b[0;34m\u001b[0m\u001b[0m\n\u001b[0m\u001b[1;32m      3\u001b[0m \u001b[0;34m\u001b[0m\u001b[0m\n\u001b[1;32m      4\u001b[0m \u001b[0mword\u001b[0m \u001b[0;34m=\u001b[0m \u001b[0;34m(\u001b[0m\u001b[0;34m'the'\u001b[0m\u001b[0;34m,\u001b[0m \u001b[0;34m)\u001b[0m\u001b[0;34m\u001b[0m\u001b[0m\n\u001b[1;32m      5\u001b[0m \u001b[0mplot_bigram_dist\u001b[0m\u001b[0;34m(\u001b[0m\u001b[0mword\u001b[0m\u001b[0;34m,\u001b[0m \u001b[0mbigram\u001b[0m\u001b[0;34m,\u001b[0m \u001b[0mbigram_small_k\u001b[0m\u001b[0;34m,\u001b[0m \u001b[0mk\u001b[0m\u001b[0;34m=\u001b[0m\u001b[0;36m5\u001b[0m\u001b[0;34m)\u001b[0m\u001b[0;34m\u001b[0m\u001b[0m\n",
      "\u001b[0;32m<ipython-input-216-5674a1d0eaf8>\u001b[0m in \u001b[0;36mplot_bigram_dist\u001b[0;34m(word, bigram, smoothbigram, k)\u001b[0m\n\u001b[1;32m     10\u001b[0m     \u001b[0mds_sort\u001b[0m \u001b[0;34m=\u001b[0m \u001b[0msorted\u001b[0m\u001b[0;34m(\u001b[0m\u001b[0mds\u001b[0m\u001b[0;34m.\u001b[0m\u001b[0mitems\u001b[0m\u001b[0;34m(\u001b[0m\u001b[0;34m)\u001b[0m\u001b[0;34m,\u001b[0m \u001b[0mreverse\u001b[0m\u001b[0;34m=\u001b[0m\u001b[0;32mTrue\u001b[0m\u001b[0;34m,\u001b[0m \u001b[0mkey\u001b[0m\u001b[0;34m=\u001b[0m\u001b[0;32mlambda\u001b[0m \u001b[0mt\u001b[0m\u001b[0;34m:\u001b[0m \u001b[0mt\u001b[0m\u001b[0;34m[\u001b[0m\u001b[0;36m1\u001b[0m\u001b[0;34m]\u001b[0m\u001b[0;34m)\u001b[0m\u001b[0;34m[\u001b[0m\u001b[0;36m0\u001b[0m\u001b[0;34m:\u001b[0m\u001b[0mk\u001b[0m\u001b[0;34m]\u001b[0m\u001b[0;34m\u001b[0m\u001b[0m\n\u001b[1;32m     11\u001b[0m \u001b[0;34m\u001b[0m\u001b[0m\n\u001b[0;32m---> 12\u001b[0;31m     \u001b[0m_\u001b[0m\u001b[0;34m,\u001b[0m \u001b[0mprobs\u001b[0m \u001b[0;34m=\u001b[0m \u001b[0mzip\u001b[0m\u001b[0;34m(\u001b[0m\u001b[0;34m*\u001b[0m\u001b[0md_sort\u001b[0m\u001b[0;34m)\u001b[0m\u001b[0;34m\u001b[0m\u001b[0m\n\u001b[0m\u001b[1;32m     13\u001b[0m     \u001b[0msmooth_ws\u001b[0m\u001b[0;34m,\u001b[0m \u001b[0msmooth_probs\u001b[0m \u001b[0;34m=\u001b[0m \u001b[0mzip\u001b[0m\u001b[0;34m(\u001b[0m\u001b[0;34m*\u001b[0m\u001b[0mds_sort\u001b[0m\u001b[0;34m)\u001b[0m\u001b[0;34m\u001b[0m\u001b[0m\n\u001b[1;32m     14\u001b[0m \u001b[0;34m\u001b[0m\u001b[0m\n",
      "\u001b[0;31mValueError\u001b[0m: not enough values to unpack (expected 2, got 0)"
     ]
    }
   ],
   "source": []
  },
  {
   "cell_type": "markdown",
   "metadata": {},
   "source": [
    "(a)\n",
    "When $C(w_{n-1})$ is relatively big, the change of denominator caused by V is relative small.\n",
    "But for infrequent words, V has big impact on denominator, so the probability could be a small value.\n",
    "\n",
    "(b)\n",
    "If k is slightly large than 0, it will decrease the effect of smoothing and more close to the result of without smoothing. But it's worth to notice that even if k is small, V still has big impact on infrequent words."
   ]
  },
  {
   "cell_type": "markdown",
   "metadata": {},
   "source": [
    "\n",
    "**Recall** that if we have a sentence $w_1,\\dots,w_n$ we can write\n",
    "\n",
    "$$P(w_1\\dots w_n) = P(w_1)P(w_2|w_1) \\cdots P(w_i|w_1 \\dots w_{n-1}) \\approx P(w_1)P(w_2|w_1)\\cdots P(w_{N-1}|w_1\\dots w_{N-2})\\prod_{i=N}^{n} P(w_i|w_{i-(N-1)}\\dots w_{i-1})$$\n",
    "\n",
    "where in the last step we make an $N$-gram approximation of the full conditionals.\n",
    "\n",
    "For example, in the case of a bigram (N=2), the above expression reduces to\n",
    "\n",
    "$$P(w_1 \\dots w_n)\\approx P(w_1)\\prod_{i=2}^{n} P(w_i| w_{i-1}).$$\n",
    "\n",
    "## Exercise 2.4 (5 points)\n",
    "\n",
    "The following sentences are taken from the **training data**. Use your **unsmoothed unigram**, **bigram**, and **trigram** language model to estimate their **probabilities**:\n",
    "\n",
    "    1. Every day was about creating something new .\n",
    "    2. In this machine , a beam of protons and anti-protons are accelerated to near the speed of light and brought \n",
    "       together in a collision , producing a burst of pure energy .\n",
    "\n",
    "**Repeat** this with the **smoothed (add-1)** versions of the N-grams. What is the effect of smoothing on the probabilities?\n"
   ]
  },
  {
   "cell_type": "code",
   "execution_count": 220,
   "metadata": {},
   "outputs": [],
   "source": [
    "trigram_smoothed, unigram_smoothed = train_ngram(data, N=3, k=1)"
   ]
  },
  {
   "cell_type": "code",
   "execution_count": 221,
   "metadata": {},
   "outputs": [
    {
     "name": "stdout",
     "output_type": "stream",
     "text": [
      "Sentence1 without smoothing: \n",
      "1-gram probability: 1.8753980578293063e-24\n",
      "2-gram probability: 0\n",
      "3-gram probability: 1.241092166741438e-11\n",
      "\n",
      "Sentence1 with smoothing: \n",
      "1-gram probability: 2.4178740677475678e-24\n",
      "2-gram probability: 1.7626843091651718e-26\n",
      "3-gram probability: 1.3301406368835432e-32\n",
      "\n",
      "Sentence2 without smoothing: \n",
      "1-gram probability: 6.736263286271308e-101\n",
      "2-gram probability: 0\n",
      "3-gram probability: 3.570432747502253e-31\n",
      "\n",
      "Sentence2 with smoothing: \n",
      "1-gram probability: 4.3471454835405504e-100\n",
      "2-gram probability: 2.0095422945886214e-116\n",
      "3-gram probability: 5.334908390126462e-134\n"
     ]
    }
   ],
   "source": [
    "def compute_sentence_probability(sentence, gram, N):\n",
    "    sentence = sentence.split(' ')\n",
    "    original_sentence = sentence\n",
    "    \n",
    "    sentence = original_sentence\n",
    "    if N >= 2:\n",
    "        for n in range(N-1):\n",
    "            sentence = ['<s>'] + sentence\n",
    "    \n",
    "    probability = 1        \n",
    "    for idx_word, word in enumerate(sentence):\n",
    "                  \n",
    "        tuple_list = []\n",
    "        window_size = N\n",
    "        if idx_word < window_size - 1:\n",
    "            continue\n",
    "        window_start = idx_word - window_size + 1\n",
    "        window_end = idx_word\n",
    "\n",
    "        for j in range(window_start, window_end, 1):               \n",
    "            tuple_list.append(sentence[j])          \n",
    "\n",
    "        tuple_words = tuple(tuple_list)        \n",
    "        \n",
    "        if N == 1:\n",
    "            probability *= gram[word]\n",
    "        else:                            \n",
    "            probability *= gram[tuple_words][word]\n",
    "            \n",
    "    return probability\n",
    "    \n",
    "sentence1 = 'Every day was about creating something new .'\n",
    "grams = {1: unigram, 2: bigram, 3: trigram}\n",
    "grams_smoothed = {1: unigram_smoothed, 2: bigram_smoothed, 3: trigram_smoothed}                \n",
    "\n",
    "print(\"Sentence1 without smoothing: \")\n",
    "for N, gram in grams.items():\n",
    "    probability = compute_sentence_probability(sentence1, gram, N)\n",
    "    print(str(N) + '-gram probability: ' + str(probability))\n",
    "\n",
    "print()\n",
    "    \n",
    "print(\"Sentence1 with smoothing: \")\n",
    "for N, gram in grams_smoothed.items():\n",
    "    probability = compute_sentence_probability(sentence1, gram, N)\n",
    "    print(str(N) + '-gram probability: ' + str(probability))\n",
    "\n",
    "print()\n",
    "    \n",
    "sentence2 = 'In this machine , a beam of protons and anti-protons are accelerated to near the \\\n",
    "speed of light and brought together in a collision , producing a burst of pure energy .'\n",
    "\n",
    "print(\"Sentence2 without smoothing: \")\n",
    "for N, gram in grams.items():\n",
    "    probability = compute_sentence_probability(sentence2, gram, N)\n",
    "    print(str(N) + '-gram probability: ' + str(probability))\n",
    "    \n",
    "print()\n",
    "    \n",
    "print(\"Sentence2 with smoothing: \")\n",
    "for N, gram in grams_smoothed.items():\n",
    "    probability = compute_sentence_probability(sentence2, gram, N)\n",
    "    print(str(N) + '-gram probability: ' + str(probability))"
   ]
  },
  {
   "cell_type": "markdown",
   "metadata": {},
   "source": [
    "Smoothing will lower the probability. Because for smoothing, we have to lower the probability of each word in vocabulary such that whole probability sum up to 1."
   ]
  },
  {
   "cell_type": "markdown",
   "metadata": {},
   "source": [
    "## Exercise 2.5 (5 points)\n",
    "\n",
    "The above sentences were taken from the training set, hence they will all have probability greater than 0. The big challenge for our language model are of course with sentence that contain unseen N-grams: if such an N-gram occurs our model immediately assigns the sentence probability zero.\n",
    "\n",
    "The following three senteces are taken from the **test set** availlable in the file **ted-test.txt**. What probabilities do your smoothed and unsmoothed language models asign in this case?\n",
    "\n",
    "    1. Because these robots are really safe .\n",
    "    2. We have sheer nothingness on one side , and we have this vision of a reality that encompasses every \n",
    "       conceivable world at the other extreme : the fullest possible reality , nothingness , the simplest possible \n",
    "       reality ."
   ]
  },
  {
   "cell_type": "code",
   "execution_count": 222,
   "metadata": {},
   "outputs": [],
   "source": [
    "test_file = \"ted-test.txt\"\n",
    "test_data, w2i, i2w = read(test_file)"
   ]
  },
  {
   "cell_type": "code",
   "execution_count": 223,
   "metadata": {},
   "outputs": [
    {
     "name": "stdout",
     "output_type": "stream",
     "text": [
      "1-gram probability: 8.42197637384407e-22\n",
      "2-gram probability: 0\n",
      "3-gram probability: 0.0\n",
      "\n",
      "1-gram probability: 1.0534356800803786e-21\n",
      "2-gram probability: 9.379248193377376e-24\n",
      "3-gram probability: 2.433779391360207e-30\n",
      "\n",
      "1-gram probability: 5.252696069880247e-119\n",
      "2-gram probability: 0\n",
      "3-gram probability: 0.0\n",
      "\n",
      "1-gram probability: 2.9022194676384047e-118\n",
      "2-gram probability: 1.356862482398554e-126\n",
      "3-gram probability: 0.0\n"
     ]
    }
   ],
   "source": [
    "sentence1 = 'Because these robots are really safe .'\n",
    "for N, gram in grams.items():\n",
    "    probability = compute_sentence_probability(sentence1, gram, N)\n",
    "    print(str(N) + '-gram probability: ' + str(probability))\n",
    "\n",
    "print()\n",
    "    \n",
    "for N, gram in grams_smoothed.items():\n",
    "    probability = compute_sentence_probability(sentence1, gram, N)\n",
    "    print(str(N) + '-gram probability: ' + str(probability))    \n",
    "\n",
    "print()\n",
    "\n",
    "sentence2 = 'We have sheer nothingness on one side , and we have this vision of a reality that encompasses every \\\n",
    "conceivable world at the other extreme : the fullest possible reality , nothingness , the simplest possible \\\n",
    "reality .'\n",
    "\n",
    "for N, gram in grams.items():\n",
    "    probability = compute_sentence_probability(sentence2, gram, N)\n",
    "    print(str(N) + '-gram probability: ' + str(probability))\n",
    "\n",
    "print()\n",
    "    \n",
    "for N, gram in grams_smoothed.items():\n",
    "    probability = compute_sentence_probability(sentence2, gram, N)\n",
    "    print(str(N) + '-gram probability: ' + str(probability))"
   ]
  },
  {
   "cell_type": "markdown",
   "metadata": {},
   "source": [
    "For sentence 1, we can see that the probability of trigram without smoothing is zero, and after smoothing, the probability becomes positive value. Because smoothing add small probability for those seen history and unseen word which make whole probability larger than 0.\n",
    "\n",
    "For sentence 2, which is longer than sentence 1, we can see that smoothing also make the probability of bigram  is larger than 0, but smoothing failed to make the probability of trigram is not zero. We think it's because there is some unseen history in test data, which make trigram\\[unseen history\\][word] is 0. So the whole probability is still 0."
   ]
  },
  {
   "cell_type": "markdown",
   "metadata": {},
   "source": [
    "### [Optional]\n",
    "\n",
    "**Optional** What percentage of the sentences in the test set get assigned probability 0 under your smoothed and unsmoothed language models? "
   ]
  },
  {
   "cell_type": "code",
   "execution_count": null,
   "metadata": {},
   "outputs": [],
   "source": [
    "### ANSWER HERE ###"
   ]
  },
  {
   "cell_type": "markdown",
   "metadata": {},
   "source": [
    "## Exercise 2.6 (5 points)\n",
    "\n",
    "**Perplexity** is very frequently used **metric** for evaluating probabilistic models such as language models. The perplexity (sometimes called **PP** for short) of a language model on a sentence is the **inverse probability** of the sentence, **normalized** by the number of words:\n",
    "\n",
    "$$PP(w_1 \\dots w_n) = P(w_1\\dots w_n)^{-\\frac{1}{n}}.$$\n",
    "\n",
    "Here we can again approximate $P(w_1 \\dots w_n)$ with N-gram probabilities, as above.\n",
    "Note: $(x_1\\cdots x_n)^{-\\frac{1}{n}}$ is the **geometric mean** of the numbers $x_1,\\dots,x_n$. It is like the (regular) artithmetic mean, but with **products** instead of **sums**. The geometric mean is a more natural choice in the case of *PP* because behind $P(w_1\\dots w_n)$ is a series of $n$ products ([more here](https://en.wikipedia.org/wiki/Geometric_mean)).\n",
    "\n",
    "\n",
    "\n",
    "Compute the perplexity of the training sentences from excercise 2.1. What big difference between the **probabilities** of the sentences and the **perplexities** of the sentences do you notice?"
   ]
  },
  {
   "cell_type": "code",
   "execution_count": 224,
   "metadata": {},
   "outputs": [],
   "source": [
    "perplexity = []\n",
    "normal_probability = []\n",
    "count = 0\n",
    "for sentence in data:        \n",
    "    count += 1\n",
    "    if count > 10:\n",
    "        break\n",
    "    sentence_str = ''\n",
    "    \n",
    "    for word in sentence:\n",
    "        if word == '<s>' or word == '</s>':\n",
    "            continue\n",
    "        sentence_str += word + ' '\n",
    "        \n",
    "    sentence_str = sentence_str[:-1]\n",
    "    probability = compute_sentence_probability(sentence_str, bigram_smoothed, 2)    \n",
    "    normal_probability += [probability]    \n",
    "    perplexity += [probability ** (1 / len(sentence))]"
   ]
  },
  {
   "cell_type": "code",
   "execution_count": 225,
   "metadata": {},
   "outputs": [
    {
     "name": "stdout",
     "output_type": "stream",
     "text": [
      "Perplexity: \n",
      "[0.0017834827952319637, 0.0004117950929036414, 0.004734512063930554, 0.002370264464460582, 0.005629758668100014]\n",
      "\n",
      "Probability: \n",
      "[1.9130358308954124e-69, 2.328247673425317e-85, 3.0177194890110257e-40, 7.481419850163536e-14, 1.8004769297873189e-25]\n"
     ]
    }
   ],
   "source": [
    "print('Perplexity: ')\n",
    "print(perplexity[0:5])\n",
    "print()\n",
    "print('Probability: ')\n",
    "print(normal_probability[0:5])"
   ]
  },
  {
   "cell_type": "markdown",
   "metadata": {},
   "source": [
    "The value of perplexity is relatively large, it narrows the difference between the probability of words. The negative inverse power of N normalizes the number of words"
   ]
  },
  {
   "cell_type": "markdown",
   "metadata": {},
   "source": [
    "# That's it!\n",
    "\n",
    "Congratulations, you have made it to the end of the tutorial. Here we will recap the gist of this notebook. \n",
    "\n",
    "**Make sure all your cells can be executed and all your answers are there. Then, read on if you're interested!**\n",
    "\n",
    "-----\n",
    "\n",
    "By now you should have a solid feeling for the problem of **sparsity in language data**; there's just never enough data. For the task of language modelling, we saw that sparsity is a serious challenge. \n",
    "\n",
    "It would be great to be able to model $p(w_n|w_1 \\dots w_{n-1})$ for unlimited $n$: the larger $n$ the better our language model should become at capturing the long-range dependencies between words that characterize actual human sentences, and the more probability our model will asign to such sentences as opposed to sentences that are word-soup. But in the N-gram approach, increasing $n$ will quickly kill all generalizing abilities of the model: the model will start to asign probabilities only to sentences it has seen in the training data.\n",
    "\n",
    "So, where to go from here? Here are three directions that we could head in.\n",
    "\n",
    "### Smoothing\n",
    "\n",
    "We have seen one example of smoothing in this lab: add-k smoothing. This is an easy method, both conceptually and implementation-wise. But the results are not great, and the effects it has on the distributions can be extreme.\n",
    "\n",
    "A much more sophisticated method of smoothing is so-called **Kneser-Ney smoothing**. The method is described in detail in section 4.5 of J&M (3rd edition). This is one of the best performing N-gram smoothing methods, and up to a few years ago a popular implementation of it called [KenLM](https://kheafield.com/code/kenlm/) gave state of the art results.\n",
    "\n",
    "### From words to characters\n",
    "\n",
    "In this lab we have considered language modeling as the task of predicting a **word** $w_n$ based on a history of **words** $w_1\\cdots w_n$. What if instead we let our basic units of modelling be **characters**? The task then becomes to model $p(c_k\\mid c_{k-N-1}\\dots c_{k-1})$ where each $c_i$ is now an ASCII character instead of an entire word.\n",
    "\n",
    "Suddenly sparsity of data is no longer a problem! The set of characters to use is tiny (< 100) compared to even a small-sized vocabulary as today. Have a look at this very illustrative notebook written by Yoav Golberg to see such a method in action: [The unreasonable effectiveness of Character-level Language Models](http://nbviewer.jupyter.org/gist/yoavg/d76121dfde2618422139).\n",
    "\n",
    "(So what is the downside?)\n",
    "\n",
    "\n",
    "### Neural language models\n",
    "\n",
    "The above notebook was actually written as a response to this blog post by Andrej Karpathy: [The Unreasonable Effectiveness of Recurrent Neural Networks](http://karpathy.github.io/2015/05/21/rnn-effectiveness/). Go ahead and read it if you haven't already: it is a superb introduction to the topic of Recurrent Neural Networks.\n",
    "\n",
    "Neural language models solve the problem of data sparsity in a different manner. Instead of estimating the probabilities $p(w_k\\mid w_{k-N-1}\\dots w_{k-1})$ by counting occurences in the data, they use a neural network $f_{\\theta}$ parametrized by parameters $\\theta$ to predict this probability. The parameters $\\theta$ are learned through optimization. \n",
    "\n",
    "The simplest approach goes like this: each word in the history $w_{k-N-1}\\dots w_{k-1}$ is embedded separately giving  vectors $e_{k-N-1}\\dots e_{k-1}$ and then concatenated into one long vectors $[e_{k-N-1};\\dots ;e_{k-1}]$. The network then uses this history vector to predict a probability distribution over words $w$ in the vocabulary $V$:\n",
    "\n",
    "$$p(w \\mid w_{k-N-1}\\dots w_{k-1}) = f_{\\theta}([e_{k-N-1};\\dots;e_{k-1}]).$$\n",
    "\n",
    "(In order to produce legitimate probabilities the final layer of such a network will be for example a $softmax$.)\n",
    "\n",
    "This provides a solution to the sparsity problem by having the network let the individual embeddings of the words in the history interact through its non-linear transforamtion. We are letting the network figure out the smoothing itself!\n",
    "\n",
    "RNNs are a clever extension of this idea, where a hidden state vector $h$ is re-used and updated at each step $k$ in order to store the information of the entire history up to step $k-1$. That is, an RNN actually does away with the N-order approximation; it tries to model the full conditional directly! That means that\n",
    "\n",
    "$$p(w \\mid w_1\\dots w_{k-1}) \\approx RNN_{\\theta}([e_{k-1};h_{k-1}])$$\n",
    "\n",
    "where the hidden state $h_{k-1}$ is a compression of the *entire history* $w_1\\dots w_{k-1}$.\n",
    "\n",
    "Another great place to learn about RNNs, their problems, and solutions to those, is on the blog of [Christopher Olah](http://colah.github.io/posts/2015-08-Understanding-LSTMs/). The project on language modelling will involve learning more about these methods. \n",
    "\n",
    "-----------\n",
    "(And now, it's time to read the classic essay by Eugene Wigner that gave both of the posts their title: [The Unreasonable Effectiveness of Mathematics in the Natural Sciences](http://www.dartmouth.edu/~matc/MathDrama/reading/Wigner.html))"
   ]
  }
 ],
 "metadata": {
  "anaconda-cloud": {},
  "kernelspec": {
   "display_name": "Python 3",
   "language": "python",
   "name": "python3"
  },
  "language_info": {
   "codemirror_mode": {
    "name": "ipython",
    "version": 3
   },
   "file_extension": ".py",
   "mimetype": "text/x-python",
   "name": "python",
   "nbconvert_exporter": "python",
   "pygments_lexer": "ipython3",
   "version": "3.6.3"
  }
 },
 "nbformat": 4,
 "nbformat_minor": 1
}
